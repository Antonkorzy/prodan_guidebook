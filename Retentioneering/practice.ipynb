{
 "cells": [
  {
   "cell_type": "code",
   "execution_count": 4,
   "metadata": {
    "colab": {
     "base_uri": "https://localhost:8080/",
     "height": 1000
    },
    "colab_type": "code",
    "id": "mQd5yDRNzJ0x",
    "outputId": "512dd450-e1d2-4ab1-8835-8a06d708365e"
   },
   "outputs": [
    {
     "name": "stdout",
     "output_type": "stream",
     "text": [
      "Collecting retentioneering==2.0.0\n",
      "  Using cached retentioneering-2.0.0-py3-none-any.whl (816 kB)\n",
      "Requirement already satisfied: scipy in /Users/anton/opt/anaconda3/lib/python3.9/site-packages (from retentioneering==2.0.0) (1.7.1)\n",
      "Requirement already satisfied: umap-learn in /Users/anton/opt/anaconda3/lib/python3.9/site-packages (from retentioneering==2.0.0) (0.5.3)\n",
      "Requirement already satisfied: pymongo in /Users/anton/opt/anaconda3/lib/python3.9/site-packages (from retentioneering==2.0.0) (4.1.1)\n",
      "Requirement already satisfied: tqdm in /Users/anton/opt/anaconda3/lib/python3.9/site-packages (from retentioneering==2.0.0) (4.62.3)\n",
      "Requirement already satisfied: matplotlib in /Users/anton/opt/anaconda3/lib/python3.9/site-packages (from retentioneering==2.0.0) (3.4.3)\n",
      "Requirement already satisfied: seaborn>=0.11.0 in /Users/anton/opt/anaconda3/lib/python3.9/site-packages (from retentioneering==2.0.0) (0.11.2)\n",
      "Requirement already satisfied: numpy>=1.19.1 in /Users/anton/opt/anaconda3/lib/python3.9/site-packages (from retentioneering==2.0.0) (1.20.3)\n",
      "Requirement already satisfied: pandas>=1.1.1 in /Users/anton/opt/anaconda3/lib/python3.9/site-packages (from retentioneering==2.0.0) (1.3.4)\n",
      "Requirement already satisfied: scikit-learn>=0.23.2 in /Users/anton/opt/anaconda3/lib/python3.9/site-packages (from retentioneering==2.0.0) (0.24.2)\n",
      "Requirement already satisfied: altair in /Users/anton/opt/anaconda3/lib/python3.9/site-packages (from retentioneering==2.0.0) (4.2.0)\n",
      "Requirement already satisfied: networkx>=2.4 in /Users/anton/opt/anaconda3/lib/python3.9/site-packages (from retentioneering==2.0.0) (2.6.3)\n",
      "Requirement already satisfied: vega in /Users/anton/opt/anaconda3/lib/python3.9/site-packages (from retentioneering==2.0.0) (3.6.0)\n",
      "Requirement already satisfied: plotly in /Users/anton/opt/anaconda3/lib/python3.9/site-packages (from retentioneering==2.0.0) (5.8.0)\n",
      "Requirement already satisfied: pyparsing>=2.2.1 in /Users/anton/opt/anaconda3/lib/python3.9/site-packages (from matplotlib->retentioneering==2.0.0) (3.0.4)\n",
      "Requirement already satisfied: pillow>=6.2.0 in /Users/anton/opt/anaconda3/lib/python3.9/site-packages (from matplotlib->retentioneering==2.0.0) (8.4.0)\n",
      "Requirement already satisfied: cycler>=0.10 in /Users/anton/opt/anaconda3/lib/python3.9/site-packages (from matplotlib->retentioneering==2.0.0) (0.10.0)\n",
      "Requirement already satisfied: python-dateutil>=2.7 in /Users/anton/opt/anaconda3/lib/python3.9/site-packages (from matplotlib->retentioneering==2.0.0) (2.8.2)\n",
      "Requirement already satisfied: kiwisolver>=1.0.1 in /Users/anton/opt/anaconda3/lib/python3.9/site-packages (from matplotlib->retentioneering==2.0.0) (1.3.1)\n",
      "Requirement already satisfied: six in /Users/anton/opt/anaconda3/lib/python3.9/site-packages (from cycler>=0.10->matplotlib->retentioneering==2.0.0) (1.16.0)\n",
      "Requirement already satisfied: pytz>=2017.3 in /Users/anton/opt/anaconda3/lib/python3.9/site-packages (from pandas>=1.1.1->retentioneering==2.0.0) (2021.3)\n",
      "Requirement already satisfied: joblib>=0.11 in /Users/anton/opt/anaconda3/lib/python3.9/site-packages (from scikit-learn>=0.23.2->retentioneering==2.0.0) (1.1.0)\n",
      "Requirement already satisfied: threadpoolctl>=2.0.0 in /Users/anton/opt/anaconda3/lib/python3.9/site-packages (from scikit-learn>=0.23.2->retentioneering==2.0.0) (2.2.0)\n",
      "Requirement already satisfied: entrypoints in /Users/anton/opt/anaconda3/lib/python3.9/site-packages (from altair->retentioneering==2.0.0) (0.3)\n",
      "Requirement already satisfied: jinja2 in /Users/anton/opt/anaconda3/lib/python3.9/site-packages (from altair->retentioneering==2.0.0) (2.11.3)\n",
      "Requirement already satisfied: toolz in /Users/anton/opt/anaconda3/lib/python3.9/site-packages (from altair->retentioneering==2.0.0) (0.11.1)\n",
      "Requirement already satisfied: jsonschema>=3.0 in /Users/anton/opt/anaconda3/lib/python3.9/site-packages (from altair->retentioneering==2.0.0) (3.2.0)\n",
      "Requirement already satisfied: setuptools in /Users/anton/opt/anaconda3/lib/python3.9/site-packages (from jsonschema>=3.0->altair->retentioneering==2.0.0) (58.0.4)\n",
      "Requirement already satisfied: attrs>=17.4.0 in /Users/anton/opt/anaconda3/lib/python3.9/site-packages (from jsonschema>=3.0->altair->retentioneering==2.0.0) (21.2.0)\n",
      "Requirement already satisfied: pyrsistent>=0.14.0 in /Users/anton/opt/anaconda3/lib/python3.9/site-packages (from jsonschema>=3.0->altair->retentioneering==2.0.0) (0.18.0)\n",
      "Requirement already satisfied: MarkupSafe>=0.23 in /Users/anton/opt/anaconda3/lib/python3.9/site-packages (from jinja2->altair->retentioneering==2.0.0) (1.1.1)\n",
      "Requirement already satisfied: tenacity>=6.2.0 in /Users/anton/opt/anaconda3/lib/python3.9/site-packages (from plotly->retentioneering==2.0.0) (8.0.1)\n",
      "Requirement already satisfied: pynndescent>=0.5 in /Users/anton/opt/anaconda3/lib/python3.9/site-packages (from umap-learn->retentioneering==2.0.0) (0.5.7)\n",
      "Requirement already satisfied: numba>=0.49 in /Users/anton/opt/anaconda3/lib/python3.9/site-packages (from umap-learn->retentioneering==2.0.0) (0.54.1)\n",
      "Requirement already satisfied: llvmlite<0.38,>=0.37.0rc1 in /Users/anton/opt/anaconda3/lib/python3.9/site-packages (from numba>=0.49->umap-learn->retentioneering==2.0.0) (0.37.0)\n",
      "Requirement already satisfied: jupyter<2.0.0,>=1.0.0 in /Users/anton/opt/anaconda3/lib/python3.9/site-packages (from vega->retentioneering==2.0.0) (1.0.0)\n",
      "Requirement already satisfied: ipykernel in /Users/anton/opt/anaconda3/lib/python3.9/site-packages (from jupyter<2.0.0,>=1.0.0->vega->retentioneering==2.0.0) (6.4.1)\n",
      "Requirement already satisfied: nbconvert in /Users/anton/opt/anaconda3/lib/python3.9/site-packages (from jupyter<2.0.0,>=1.0.0->vega->retentioneering==2.0.0) (6.1.0)\n",
      "Requirement already satisfied: qtconsole in /Users/anton/opt/anaconda3/lib/python3.9/site-packages (from jupyter<2.0.0,>=1.0.0->vega->retentioneering==2.0.0) (5.1.1)\n",
      "Requirement already satisfied: jupyter-console in /Users/anton/opt/anaconda3/lib/python3.9/site-packages (from jupyter<2.0.0,>=1.0.0->vega->retentioneering==2.0.0) (6.4.0)\n",
      "Requirement already satisfied: notebook in /Users/anton/opt/anaconda3/lib/python3.9/site-packages (from jupyter<2.0.0,>=1.0.0->vega->retentioneering==2.0.0) (6.4.5)\n",
      "Requirement already satisfied: ipywidgets in /Users/anton/opt/anaconda3/lib/python3.9/site-packages (from jupyter<2.0.0,>=1.0.0->vega->retentioneering==2.0.0) (7.6.5)\n",
      "Requirement already satisfied: ipython-genutils in /Users/anton/opt/anaconda3/lib/python3.9/site-packages (from ipykernel->jupyter<2.0.0,>=1.0.0->vega->retentioneering==2.0.0) (0.2.0)\n",
      "Requirement already satisfied: ipython<8.0,>=7.23.1 in /Users/anton/opt/anaconda3/lib/python3.9/site-packages (from ipykernel->jupyter<2.0.0,>=1.0.0->vega->retentioneering==2.0.0) (7.29.0)\n",
      "Requirement already satisfied: debugpy<2.0,>=1.0.0 in /Users/anton/opt/anaconda3/lib/python3.9/site-packages (from ipykernel->jupyter<2.0.0,>=1.0.0->vega->retentioneering==2.0.0) (1.4.1)\n",
      "Requirement already satisfied: appnope in /Users/anton/opt/anaconda3/lib/python3.9/site-packages (from ipykernel->jupyter<2.0.0,>=1.0.0->vega->retentioneering==2.0.0) (0.1.2)\n",
      "Requirement already satisfied: jupyter-client<8.0 in /Users/anton/opt/anaconda3/lib/python3.9/site-packages (from ipykernel->jupyter<2.0.0,>=1.0.0->vega->retentioneering==2.0.0) (6.1.12)\n",
      "Requirement already satisfied: matplotlib-inline<0.2.0,>=0.1.0 in /Users/anton/opt/anaconda3/lib/python3.9/site-packages (from ipykernel->jupyter<2.0.0,>=1.0.0->vega->retentioneering==2.0.0) (0.1.2)\n",
      "Requirement already satisfied: traitlets<6.0,>=4.1.0 in /Users/anton/opt/anaconda3/lib/python3.9/site-packages (from ipykernel->jupyter<2.0.0,>=1.0.0->vega->retentioneering==2.0.0) (5.1.0)\n",
      "Requirement already satisfied: tornado<7.0,>=4.2 in /Users/anton/opt/anaconda3/lib/python3.9/site-packages (from ipykernel->jupyter<2.0.0,>=1.0.0->vega->retentioneering==2.0.0) (6.1)\n",
      "Requirement already satisfied: pygments in /Users/anton/opt/anaconda3/lib/python3.9/site-packages (from ipython<8.0,>=7.23.1->ipykernel->jupyter<2.0.0,>=1.0.0->vega->retentioneering==2.0.0) (2.10.0)\n",
      "Requirement already satisfied: backcall in /Users/anton/opt/anaconda3/lib/python3.9/site-packages (from ipython<8.0,>=7.23.1->ipykernel->jupyter<2.0.0,>=1.0.0->vega->retentioneering==2.0.0) (0.2.0)\n",
      "Requirement already satisfied: pickleshare in /Users/anton/opt/anaconda3/lib/python3.9/site-packages (from ipython<8.0,>=7.23.1->ipykernel->jupyter<2.0.0,>=1.0.0->vega->retentioneering==2.0.0) (0.7.5)\n",
      "Requirement already satisfied: decorator in /Users/anton/opt/anaconda3/lib/python3.9/site-packages (from ipython<8.0,>=7.23.1->ipykernel->jupyter<2.0.0,>=1.0.0->vega->retentioneering==2.0.0) (5.1.0)\n",
      "Requirement already satisfied: prompt-toolkit!=3.0.0,!=3.0.1,<3.1.0,>=2.0.0 in /Users/anton/opt/anaconda3/lib/python3.9/site-packages (from ipython<8.0,>=7.23.1->ipykernel->jupyter<2.0.0,>=1.0.0->vega->retentioneering==2.0.0) (3.0.20)\n",
      "Requirement already satisfied: pexpect>4.3 in /Users/anton/opt/anaconda3/lib/python3.9/site-packages (from ipython<8.0,>=7.23.1->ipykernel->jupyter<2.0.0,>=1.0.0->vega->retentioneering==2.0.0) (4.8.0)\n",
      "Requirement already satisfied: jedi>=0.16 in /Users/anton/opt/anaconda3/lib/python3.9/site-packages (from ipython<8.0,>=7.23.1->ipykernel->jupyter<2.0.0,>=1.0.0->vega->retentioneering==2.0.0) (0.18.0)\n",
      "Requirement already satisfied: parso<0.9.0,>=0.8.0 in /Users/anton/opt/anaconda3/lib/python3.9/site-packages (from jedi>=0.16->ipython<8.0,>=7.23.1->ipykernel->jupyter<2.0.0,>=1.0.0->vega->retentioneering==2.0.0) (0.8.2)\n",
      "Requirement already satisfied: jupyter-core>=4.6.0 in /Users/anton/opt/anaconda3/lib/python3.9/site-packages (from jupyter-client<8.0->ipykernel->jupyter<2.0.0,>=1.0.0->vega->retentioneering==2.0.0) (4.10.0)\n",
      "Requirement already satisfied: pyzmq>=13 in /Users/anton/opt/anaconda3/lib/python3.9/site-packages (from jupyter-client<8.0->ipykernel->jupyter<2.0.0,>=1.0.0->vega->retentioneering==2.0.0) (22.2.1)\n",
      "Requirement already satisfied: ptyprocess>=0.5 in /Users/anton/opt/anaconda3/lib/python3.9/site-packages (from pexpect>4.3->ipython<8.0,>=7.23.1->ipykernel->jupyter<2.0.0,>=1.0.0->vega->retentioneering==2.0.0) (0.7.0)\n",
      "Requirement already satisfied: wcwidth in /Users/anton/opt/anaconda3/lib/python3.9/site-packages (from prompt-toolkit!=3.0.0,!=3.0.1,<3.1.0,>=2.0.0->ipython<8.0,>=7.23.1->ipykernel->jupyter<2.0.0,>=1.0.0->vega->retentioneering==2.0.0) (0.2.5)\n",
      "Requirement already satisfied: jupyterlab-widgets>=1.0.0 in /Users/anton/opt/anaconda3/lib/python3.9/site-packages (from ipywidgets->jupyter<2.0.0,>=1.0.0->vega->retentioneering==2.0.0) (1.0.0)\n",
      "Requirement already satisfied: nbformat>=4.2.0 in /Users/anton/opt/anaconda3/lib/python3.9/site-packages (from ipywidgets->jupyter<2.0.0,>=1.0.0->vega->retentioneering==2.0.0) (5.1.3)\n",
      "Requirement already satisfied: widgetsnbextension~=3.5.0 in /Users/anton/opt/anaconda3/lib/python3.9/site-packages (from ipywidgets->jupyter<2.0.0,>=1.0.0->vega->retentioneering==2.0.0) (3.5.1)\n",
      "Requirement already satisfied: argon2-cffi in /Users/anton/opt/anaconda3/lib/python3.9/site-packages (from notebook->jupyter<2.0.0,>=1.0.0->vega->retentioneering==2.0.0) (20.1.0)\n",
      "Requirement already satisfied: prometheus-client in /Users/anton/opt/anaconda3/lib/python3.9/site-packages (from notebook->jupyter<2.0.0,>=1.0.0->vega->retentioneering==2.0.0) (0.11.0)\n",
      "Requirement already satisfied: terminado>=0.8.3 in /Users/anton/opt/anaconda3/lib/python3.9/site-packages (from notebook->jupyter<2.0.0,>=1.0.0->vega->retentioneering==2.0.0) (0.9.4)\n",
      "Requirement already satisfied: Send2Trash>=1.5.0 in /Users/anton/opt/anaconda3/lib/python3.9/site-packages (from notebook->jupyter<2.0.0,>=1.0.0->vega->retentioneering==2.0.0) (1.8.0)\n",
      "Requirement already satisfied: cffi>=1.0.0 in /Users/anton/opt/anaconda3/lib/python3.9/site-packages (from argon2-cffi->notebook->jupyter<2.0.0,>=1.0.0->vega->retentioneering==2.0.0) (1.14.6)\n",
      "Requirement already satisfied: pycparser in /Users/anton/opt/anaconda3/lib/python3.9/site-packages (from cffi>=1.0.0->argon2-cffi->notebook->jupyter<2.0.0,>=1.0.0->vega->retentioneering==2.0.0) (2.20)\n",
      "Requirement already satisfied: defusedxml in /Users/anton/opt/anaconda3/lib/python3.9/site-packages (from nbconvert->jupyter<2.0.0,>=1.0.0->vega->retentioneering==2.0.0) (0.7.1)\n",
      "Requirement already satisfied: testpath in /Users/anton/opt/anaconda3/lib/python3.9/site-packages (from nbconvert->jupyter<2.0.0,>=1.0.0->vega->retentioneering==2.0.0) (0.5.0)\n",
      "Requirement already satisfied: nbclient<0.6.0,>=0.5.0 in /Users/anton/opt/anaconda3/lib/python3.9/site-packages (from nbconvert->jupyter<2.0.0,>=1.0.0->vega->retentioneering==2.0.0) (0.5.3)\n",
      "Requirement already satisfied: bleach in /Users/anton/opt/anaconda3/lib/python3.9/site-packages (from nbconvert->jupyter<2.0.0,>=1.0.0->vega->retentioneering==2.0.0) (4.0.0)\n",
      "Requirement already satisfied: pandocfilters>=1.4.1 in /Users/anton/opt/anaconda3/lib/python3.9/site-packages (from nbconvert->jupyter<2.0.0,>=1.0.0->vega->retentioneering==2.0.0) (1.4.3)\n",
      "Requirement already satisfied: jupyterlab-pygments in /Users/anton/opt/anaconda3/lib/python3.9/site-packages (from nbconvert->jupyter<2.0.0,>=1.0.0->vega->retentioneering==2.0.0) (0.1.2)\n",
      "Requirement already satisfied: mistune<2,>=0.8.1 in /Users/anton/opt/anaconda3/lib/python3.9/site-packages (from nbconvert->jupyter<2.0.0,>=1.0.0->vega->retentioneering==2.0.0) (0.8.4)\n",
      "Requirement already satisfied: nest-asyncio in /Users/anton/opt/anaconda3/lib/python3.9/site-packages (from nbclient<0.6.0,>=0.5.0->nbconvert->jupyter<2.0.0,>=1.0.0->vega->retentioneering==2.0.0) (1.5.1)\n",
      "Requirement already satisfied: async-generator in /Users/anton/opt/anaconda3/lib/python3.9/site-packages (from nbclient<0.6.0,>=0.5.0->nbconvert->jupyter<2.0.0,>=1.0.0->vega->retentioneering==2.0.0) (1.10)\n",
      "Requirement already satisfied: packaging in /Users/anton/opt/anaconda3/lib/python3.9/site-packages (from bleach->nbconvert->jupyter<2.0.0,>=1.0.0->vega->retentioneering==2.0.0) (21.0)\n",
      "Requirement already satisfied: webencodings in /Users/anton/opt/anaconda3/lib/python3.9/site-packages (from bleach->nbconvert->jupyter<2.0.0,>=1.0.0->vega->retentioneering==2.0.0) (0.5.1)\n",
      "Requirement already satisfied: qtpy in /Users/anton/opt/anaconda3/lib/python3.9/site-packages (from qtconsole->jupyter<2.0.0,>=1.0.0->vega->retentioneering==2.0.0) (1.10.0)\n",
      "Installing collected packages: retentioneering\n",
      "Successfully installed retentioneering-2.0.0\n"
     ]
    }
   ],
   "source": [
    "!pip3 install retentioneering==2.0.0"
   ]
  },
  {
   "cell_type": "code",
   "execution_count": 5,
   "metadata": {
    "colab": {
     "base_uri": "https://localhost:8080/",
     "height": 72
    },
    "colab_type": "code",
    "id": "ch0tsGfGzLvi",
    "outputId": "5755a44b-a6e0-47ca-d83d-a28d24973f7f"
   },
   "outputs": [],
   "source": [
    "#import sys\n",
    "#sys.path.insert(0, '/Users/Daria/Dev/Retentioneering/retentioneering-tools/')\n",
    "import retentioneering\n",
    "import pandas as pd\n",
    "import numpy as np\n",
    "import io\n",
    "from datetime import timedelta\n",
    "import seaborn as sns"
   ]
  },
  {
   "cell_type": "markdown",
   "metadata": {},
   "source": [
    "# Загрузка файла локально\n",
    "для этого сохраните датасет в той же папке, в которой вы открываете ноутбук"
   ]
  },
  {
   "cell_type": "code",
   "execution_count": 6,
   "metadata": {},
   "outputs": [
    {
     "name": "stdout",
     "output_type": "stream",
     "text": [
      "<class 'pandas.core.frame.DataFrame'>\n",
      "RangeIndex: 15792 entries, 0 to 15791\n",
      "Data columns (total 3 columns):\n",
      " #   Column           Non-Null Count  Dtype \n",
      "---  ------           --------------  ----- \n",
      " 0   user_id          15792 non-null  int64 \n",
      " 1   event_name       15792 non-null  object\n",
      " 2   event_timestamp  15792 non-null  object\n",
      "dtypes: int64(1), object(2)\n",
      "memory usage: 370.2+ KB\n"
     ]
    }
   ],
   "source": [
    "data = pd.read_csv('5.4_practice_dataset.csv')\n",
    "data.info()"
   ]
  },
  {
   "cell_type": "code",
   "execution_count": 24,
   "metadata": {},
   "outputs": [
    {
     "data": {
      "text/html": [
       "<div>\n",
       "<style scoped>\n",
       "    .dataframe tbody tr th:only-of-type {\n",
       "        vertical-align: middle;\n",
       "    }\n",
       "\n",
       "    .dataframe tbody tr th {\n",
       "        vertical-align: top;\n",
       "    }\n",
       "\n",
       "    .dataframe thead th {\n",
       "        text-align: right;\n",
       "    }\n",
       "</style>\n",
       "<table border=\"1\" class=\"dataframe\">\n",
       "  <thead>\n",
       "    <tr style=\"text-align: right;\">\n",
       "      <th></th>\n",
       "      <th>user_id</th>\n",
       "      <th>event_name</th>\n",
       "      <th>event_timestamp</th>\n",
       "      <th>utm_source</th>\n",
       "    </tr>\n",
       "  </thead>\n",
       "  <tbody>\n",
       "    <tr>\n",
       "      <th>0</th>\n",
       "      <td>8395097477884212984</td>\n",
       "      <td>blog</td>\n",
       "      <td>2019-09-02 05:38:46.852262656</td>\n",
       "      <td>blog</td>\n",
       "    </tr>\n",
       "    <tr>\n",
       "      <th>1</th>\n",
       "      <td>4487962884362044925</td>\n",
       "      <td>blog</td>\n",
       "      <td>2019-09-01 21:51:42.811195648</td>\n",
       "      <td>blog</td>\n",
       "    </tr>\n",
       "    <tr>\n",
       "      <th>2</th>\n",
       "      <td>5868438858211963279</td>\n",
       "      <td>facebook</td>\n",
       "      <td>2019-09-01 14:51:00.401165312</td>\n",
       "      <td>facebook</td>\n",
       "    </tr>\n",
       "    <tr>\n",
       "      <th>3</th>\n",
       "      <td>5394116602469871813</td>\n",
       "      <td>blog</td>\n",
       "      <td>2019-09-01 18:06:18.137125888</td>\n",
       "      <td>blog</td>\n",
       "    </tr>\n",
       "    <tr>\n",
       "      <th>4</th>\n",
       "      <td>6285636856728637854</td>\n",
       "      <td>blog</td>\n",
       "      <td>2019-09-02 01:23:26.022273536</td>\n",
       "      <td>blog</td>\n",
       "    </tr>\n",
       "  </tbody>\n",
       "</table>\n",
       "</div>"
      ],
      "text/plain": [
       "               user_id event_name               event_timestamp utm_source\n",
       "0  8395097477884212984       blog 2019-09-02 05:38:46.852262656       blog\n",
       "1  4487962884362044925       blog 2019-09-01 21:51:42.811195648       blog\n",
       "2  5868438858211963279   facebook 2019-09-01 14:51:00.401165312   facebook\n",
       "3  5394116602469871813       blog 2019-09-01 18:06:18.137125888       blog\n",
       "4  6285636856728637854       blog 2019-09-02 01:23:26.022273536       blog"
      ]
     },
     "execution_count": 24,
     "metadata": {},
     "output_type": "execute_result"
    }
   ],
   "source": [
    "data.head()"
   ]
  },
  {
   "cell_type": "markdown",
   "metadata": {},
   "source": [
    "# Загрузка файла при работе в google colab"
   ]
  },
  {
   "cell_type": "code",
   "execution_count": 25,
   "metadata": {
    "colab": {
     "base_uri": "https://localhost:8080/",
     "height": 75,
     "resources": {
      "http://localhost:8080/nbextensions/google.colab/files.js": {
       "data": "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",
       "headers": [
        [
         "content-type",
         "application/javascript"
        ]
       ],
       "ok": true,
       "status": 200,
       "status_text": ""
      }
     }
    },
    "colab_type": "code",
    "id": "5aaNQBEfzgfi",
    "outputId": "6d361d27-175d-44e5-8585-292ab39fb916"
   },
   "outputs": [],
   "source": [
    "#from google.colab import files\n",
    "#uploaded=files.upload()"
   ]
  },
  {
   "cell_type": "code",
   "execution_count": 26,
   "metadata": {
    "colab": {},
    "colab_type": "code",
    "id": "9WzaZINWzjeg"
   },
   "outputs": [],
   "source": [
    "#data = pd.read_csv(io.StringIO(uploaded['5.4_practice_dataset.csv'].decode('utf-8')),sep=',')\n",
    "#data.head()"
   ]
  },
  {
   "cell_type": "code",
   "execution_count": 6,
   "metadata": {},
   "outputs": [
    {
     "name": "stdout",
     "output_type": "stream",
     "text": [
      "15792\n"
     ]
    },
    {
     "data": {
      "text/html": [
       "<div>\n",
       "<style scoped>\n",
       "    .dataframe tbody tr th:only-of-type {\n",
       "        vertical-align: middle;\n",
       "    }\n",
       "\n",
       "    .dataframe tbody tr th {\n",
       "        vertical-align: top;\n",
       "    }\n",
       "\n",
       "    .dataframe thead th {\n",
       "        text-align: right;\n",
       "    }\n",
       "</style>\n",
       "<table border=\"1\" class=\"dataframe\">\n",
       "  <thead>\n",
       "    <tr style=\"text-align: right;\">\n",
       "      <th></th>\n",
       "      <th>user_id</th>\n",
       "      <th>event_name</th>\n",
       "      <th>event_timestamp</th>\n",
       "    </tr>\n",
       "  </thead>\n",
       "  <tbody>\n",
       "    <tr>\n",
       "      <th>13</th>\n",
       "      <td>8150029619427326610</td>\n",
       "      <td>https://sampleonlineshop.ru/?utm_source=blog</td>\n",
       "      <td>2019-09-01 07:14:47.967690496</td>\n",
       "    </tr>\n",
       "    <tr>\n",
       "      <th>15</th>\n",
       "      <td>3463487194338123780</td>\n",
       "      <td>https://sampleonlineshop.ru/?utm_source=blog</td>\n",
       "      <td>2019-09-01 08:31:45.484353280</td>\n",
       "    </tr>\n",
       "    <tr>\n",
       "      <th>6</th>\n",
       "      <td>2163557180402591013</td>\n",
       "      <td>https://sampleonlineshop.ru/?utm_source=blog</td>\n",
       "      <td>2019-09-01 10:58:26.619910912</td>\n",
       "    </tr>\n",
       "    <tr>\n",
       "      <th>2</th>\n",
       "      <td>5868438858211963279</td>\n",
       "      <td>https://sampleonlineshop.ru/?utm_source=facebook</td>\n",
       "      <td>2019-09-01 14:51:00.401165312</td>\n",
       "    </tr>\n",
       "    <tr>\n",
       "      <th>11</th>\n",
       "      <td>8032084142377665129</td>\n",
       "      <td>https://sampleonlineshop.ru/?utm_source=facebook</td>\n",
       "      <td>2019-09-01 16:23:29.307095296</td>\n",
       "    </tr>\n",
       "  </tbody>\n",
       "</table>\n",
       "</div>"
      ],
      "text/plain": [
       "                user_id                                        event_name  \\\n",
       "13  8150029619427326610      https://sampleonlineshop.ru/?utm_source=blog   \n",
       "15  3463487194338123780      https://sampleonlineshop.ru/?utm_source=blog   \n",
       "6   2163557180402591013      https://sampleonlineshop.ru/?utm_source=blog   \n",
       "2   5868438858211963279  https://sampleonlineshop.ru/?utm_source=facebook   \n",
       "11  8032084142377665129  https://sampleonlineshop.ru/?utm_source=facebook   \n",
       "\n",
       "                 event_timestamp  \n",
       "13 2019-09-01 07:14:47.967690496  \n",
       "15 2019-09-01 08:31:45.484353280  \n",
       "6  2019-09-01 10:58:26.619910912  \n",
       "2  2019-09-01 14:51:00.401165312  \n",
       "11 2019-09-01 16:23:29.307095296  "
      ]
     },
     "execution_count": 6,
     "metadata": {},
     "output_type": "execute_result"
    }
   ],
   "source": [
    "data['event_timestamp'] = pd.to_datetime(data['event_timestamp'])\n",
    "data = data.sort_values('event_timestamp')\n",
    "print(len(data))\n",
    "data.head()"
   ]
  },
  {
   "cell_type": "markdown",
   "metadata": {
    "colab_type": "text",
    "id": "B0rJqBqHRLHa"
   },
   "source": [
    "# Подготовка данных"
   ]
  },
  {
   "cell_type": "code",
   "execution_count": 8,
   "metadata": {
    "colab": {},
    "colab_type": "code",
    "id": "HUwA7mulzsmQ"
   },
   "outputs": [],
   "source": [
    "user_id = 'user_id'\n",
    "event_name = 'event_name'\n",
    "event_time = 'event_timestamp'\n",
    "source = 'utm_source'"
   ]
  },
  {
   "cell_type": "code",
   "execution_count": 9,
   "metadata": {},
   "outputs": [
    {
     "data": {
      "text/plain": [
       "(15792, 3)"
      ]
     },
     "execution_count": 9,
     "metadata": {},
     "output_type": "execute_result"
    }
   ],
   "source": [
    "data.shape"
   ]
  },
  {
   "cell_type": "code",
   "execution_count": 10,
   "metadata": {},
   "outputs": [],
   "source": [
    "#обновление словаря retentioneering.config в соответствии с названиями колонок в нашем датафрейме\n",
    "retentioneering.config.update({\n",
    "    'event_col': event_name,\n",
    "    'event_time_col': event_time,\n",
    "    'user_col': user_id,\n",
    "})"
   ]
  },
  {
   "cell_type": "code",
   "execution_count": 11,
   "metadata": {},
   "outputs": [
    {
     "data": {
      "text/plain": [
       "https://sampleonlineshop.ru/?utm_source=facebook                         3793\n",
       "https://sampleonlineshop.ru/catalog/                                     3056\n",
       "https://sampleonlineshop.ru/catalog/divani/bed_bed_frame/                2034\n",
       "https://sampleonlineshop.ru/?utm_source=blog                             1645\n",
       "https://sampleonlineshop.ru/catalog/pillow/podushka_anatomicheskay/      1265\n",
       "https://sampleonlineshop.ru/delivery/                                    1059\n",
       "https://sampleonlineshop.ru/o-kompanii                                    950\n",
       "https://sampleonlineshop.ru/order/confirmation                            518\n",
       "https://sampleonlineshop.ru/order/                                        485\n",
       "https://sampleonlineshop.ru/order/submit                                  408\n",
       "https://sampleonlineshop.ru/order/payment-option-switcher                 334\n",
       "https://sampleonlineshop.ru/catalog/matrasy/sampleonlineshop_gravity/     245\n",
       "Name: event_name, dtype: int64"
      ]
     },
     "execution_count": 11,
     "metadata": {},
     "output_type": "execute_result"
    }
   ],
   "source": [
    "data[event_name].value_counts()"
   ]
  },
  {
   "cell_type": "code",
   "execution_count": 12,
   "metadata": {
    "colab": {},
    "colab_type": "code",
    "id": "qL9M7iiEr742"
   },
   "outputs": [],
   "source": [
    "# убираем из названия событий общий префикс https://sampleonlineshop.ru/\n",
    "data[event_name] = data[event_name]\\\n",
    "    .apply(lambda x: x.split('https://sampleonlineshop.ru/')[1] \n",
    "           if x.find('https://sampleonlineshop.ru/') != -1 else x )\n",
    "\n",
    "# выносим признак utm_source в отдельное поле\n",
    "data[source] = data[event_name].apply(lambda x: x.split('?utm_source=')[1] if x.find('?utm_source=') != -1 else '')\n",
    "data[event_name] = data[event_name].apply(lambda x: x.split('?utm_source=')[1] if x.find('?utm_source=') != -1 else x)\n",
    "\n",
    "#меняем название целевого события на 'passed'\n",
    "data[event_name] = data[event_name].apply(lambda x: 'passed' if x=='order/submit' else x)\n",
    "\n",
    "# выделим списки пользователей пришедших по разным каналам\n",
    "users_facebook = set(data[data[source] == 'facebook'][user_id])\n",
    "users_blog = set(data[data[source] == 'blog'][user_id])\n",
    "\n",
    "data[source]= data.apply(lambda x: 'facebook' if (x[user_id] in users_facebook) else 'blog', axis = 1)"
   ]
  },
  {
   "cell_type": "code",
   "execution_count": 13,
   "metadata": {},
   "outputs": [
    {
     "data": {
      "text/plain": [
       "facebook                                     3793\n",
       "catalog/                                     3056\n",
       "catalog/divani/bed_bed_frame/                2034\n",
       "blog                                         1645\n",
       "catalog/pillow/podushka_anatomicheskay/      1265\n",
       "delivery/                                    1059\n",
       "o-kompanii                                    950\n",
       "order/confirmation                            518\n",
       "order/                                        485\n",
       "passed                                        408\n",
       "order/payment-option-switcher                 334\n",
       "catalog/matrasy/sampleonlineshop_gravity/     245\n",
       "Name: event_name, dtype: int64"
      ]
     },
     "execution_count": 13,
     "metadata": {},
     "output_type": "execute_result"
    }
   ],
   "source": [
    "data[event_name].value_counts()"
   ]
  },
  {
   "cell_type": "code",
   "execution_count": 14,
   "metadata": {},
   "outputs": [
    {
     "data": {
      "text/html": [
       "<div>\n",
       "<style scoped>\n",
       "    .dataframe tbody tr th:only-of-type {\n",
       "        vertical-align: middle;\n",
       "    }\n",
       "\n",
       "    .dataframe tbody tr th {\n",
       "        vertical-align: top;\n",
       "    }\n",
       "\n",
       "    .dataframe thead th {\n",
       "        text-align: right;\n",
       "    }\n",
       "</style>\n",
       "<table border=\"1\" class=\"dataframe\">\n",
       "  <thead>\n",
       "    <tr style=\"text-align: right;\">\n",
       "      <th></th>\n",
       "      <th>user_id</th>\n",
       "      <th>event_name</th>\n",
       "      <th>event_timestamp</th>\n",
       "      <th>utm_source</th>\n",
       "    </tr>\n",
       "  </thead>\n",
       "  <tbody>\n",
       "    <tr>\n",
       "      <th>0</th>\n",
       "      <td>8395097477884212984</td>\n",
       "      <td>blog</td>\n",
       "      <td>2019-09-02 05:38:46.852262656</td>\n",
       "      <td>blog</td>\n",
       "    </tr>\n",
       "    <tr>\n",
       "      <th>1</th>\n",
       "      <td>4487962884362044925</td>\n",
       "      <td>blog</td>\n",
       "      <td>2019-09-01 21:51:42.811195648</td>\n",
       "      <td>blog</td>\n",
       "    </tr>\n",
       "    <tr>\n",
       "      <th>2</th>\n",
       "      <td>5868438858211963279</td>\n",
       "      <td>facebook</td>\n",
       "      <td>2019-09-01 14:51:00.401165312</td>\n",
       "      <td>facebook</td>\n",
       "    </tr>\n",
       "    <tr>\n",
       "      <th>3</th>\n",
       "      <td>5394116602469871813</td>\n",
       "      <td>blog</td>\n",
       "      <td>2019-09-01 18:06:18.137125888</td>\n",
       "      <td>blog</td>\n",
       "    </tr>\n",
       "    <tr>\n",
       "      <th>4</th>\n",
       "      <td>6285636856728637854</td>\n",
       "      <td>blog</td>\n",
       "      <td>2019-09-02 01:23:26.022273536</td>\n",
       "      <td>blog</td>\n",
       "    </tr>\n",
       "  </tbody>\n",
       "</table>\n",
       "</div>"
      ],
      "text/plain": [
       "               user_id event_name                event_timestamp utm_source\n",
       "0  8395097477884212984       blog  2019-09-02 05:38:46.852262656       blog\n",
       "1  4487962884362044925       blog  2019-09-01 21:51:42.811195648       blog\n",
       "2  5868438858211963279   facebook  2019-09-01 14:51:00.401165312   facebook\n",
       "3  5394116602469871813       blog  2019-09-01 18:06:18.137125888       blog\n",
       "4  6285636856728637854       blog  2019-09-02 01:23:26.022273536       blog"
      ]
     },
     "execution_count": 14,
     "metadata": {},
     "output_type": "execute_result"
    }
   ],
   "source": [
    "data.head()"
   ]
  },
  {
   "cell_type": "code",
   "execution_count": 25,
   "metadata": {},
   "outputs": [
    {
     "data": {
      "text/html": [
       "<div>\n",
       "<style scoped>\n",
       "    .dataframe tbody tr th:only-of-type {\n",
       "        vertical-align: middle;\n",
       "    }\n",
       "\n",
       "    .dataframe tbody tr th {\n",
       "        vertical-align: top;\n",
       "    }\n",
       "\n",
       "    .dataframe thead th {\n",
       "        text-align: right;\n",
       "    }\n",
       "</style>\n",
       "<table border=\"1\" class=\"dataframe\">\n",
       "  <thead>\n",
       "    <tr style=\"text-align: right;\">\n",
       "      <th></th>\n",
       "      <th></th>\n",
       "      <th>user_id</th>\n",
       "      <th>event_timestamp</th>\n",
       "    </tr>\n",
       "    <tr>\n",
       "      <th>event_name</th>\n",
       "      <th>utm_source</th>\n",
       "      <th></th>\n",
       "      <th></th>\n",
       "    </tr>\n",
       "  </thead>\n",
       "  <tbody>\n",
       "    <tr>\n",
       "      <th>blog</th>\n",
       "      <th>blog</th>\n",
       "      <td>1645</td>\n",
       "      <td>1645</td>\n",
       "    </tr>\n",
       "    <tr>\n",
       "      <th rowspan=\"2\" valign=\"top\">catalog/</th>\n",
       "      <th>blog</th>\n",
       "      <td>668</td>\n",
       "      <td>668</td>\n",
       "    </tr>\n",
       "    <tr>\n",
       "      <th>facebook</th>\n",
       "      <td>2388</td>\n",
       "      <td>2388</td>\n",
       "    </tr>\n",
       "    <tr>\n",
       "      <th rowspan=\"2\" valign=\"top\">catalog/divani/bed_bed_frame/</th>\n",
       "      <th>blog</th>\n",
       "      <td>1497</td>\n",
       "      <td>1497</td>\n",
       "    </tr>\n",
       "    <tr>\n",
       "      <th>facebook</th>\n",
       "      <td>537</td>\n",
       "      <td>537</td>\n",
       "    </tr>\n",
       "    <tr>\n",
       "      <th>catalog/matrasy/sampleonlineshop_gravity/</th>\n",
       "      <th>facebook</th>\n",
       "      <td>245</td>\n",
       "      <td>245</td>\n",
       "    </tr>\n",
       "    <tr>\n",
       "      <th rowspan=\"2\" valign=\"top\">catalog/pillow/podushka_anatomicheskay/</th>\n",
       "      <th>blog</th>\n",
       "      <td>587</td>\n",
       "      <td>587</td>\n",
       "    </tr>\n",
       "    <tr>\n",
       "      <th>facebook</th>\n",
       "      <td>678</td>\n",
       "      <td>678</td>\n",
       "    </tr>\n",
       "    <tr>\n",
       "      <th rowspan=\"2\" valign=\"top\">delivery/</th>\n",
       "      <th>blog</th>\n",
       "      <td>237</td>\n",
       "      <td>237</td>\n",
       "    </tr>\n",
       "    <tr>\n",
       "      <th>facebook</th>\n",
       "      <td>822</td>\n",
       "      <td>822</td>\n",
       "    </tr>\n",
       "    <tr>\n",
       "      <th>facebook</th>\n",
       "      <th>facebook</th>\n",
       "      <td>3793</td>\n",
       "      <td>3793</td>\n",
       "    </tr>\n",
       "    <tr>\n",
       "      <th rowspan=\"2\" valign=\"top\">o-kompanii</th>\n",
       "      <th>blog</th>\n",
       "      <td>219</td>\n",
       "      <td>219</td>\n",
       "    </tr>\n",
       "    <tr>\n",
       "      <th>facebook</th>\n",
       "      <td>731</td>\n",
       "      <td>731</td>\n",
       "    </tr>\n",
       "    <tr>\n",
       "      <th rowspan=\"2\" valign=\"top\">order/</th>\n",
       "      <th>blog</th>\n",
       "      <td>175</td>\n",
       "      <td>175</td>\n",
       "    </tr>\n",
       "    <tr>\n",
       "      <th>facebook</th>\n",
       "      <td>310</td>\n",
       "      <td>310</td>\n",
       "    </tr>\n",
       "    <tr>\n",
       "      <th rowspan=\"2\" valign=\"top\">order/confirmation</th>\n",
       "      <th>blog</th>\n",
       "      <td>80</td>\n",
       "      <td>80</td>\n",
       "    </tr>\n",
       "    <tr>\n",
       "      <th>facebook</th>\n",
       "      <td>438</td>\n",
       "      <td>438</td>\n",
       "    </tr>\n",
       "    <tr>\n",
       "      <th rowspan=\"2\" valign=\"top\">order/payment-option-switcher</th>\n",
       "      <th>blog</th>\n",
       "      <td>120</td>\n",
       "      <td>120</td>\n",
       "    </tr>\n",
       "    <tr>\n",
       "      <th>facebook</th>\n",
       "      <td>214</td>\n",
       "      <td>214</td>\n",
       "    </tr>\n",
       "    <tr>\n",
       "      <th rowspan=\"2\" valign=\"top\">passed</th>\n",
       "      <th>blog</th>\n",
       "      <td>66</td>\n",
       "      <td>66</td>\n",
       "    </tr>\n",
       "    <tr>\n",
       "      <th>facebook</th>\n",
       "      <td>342</td>\n",
       "      <td>342</td>\n",
       "    </tr>\n",
       "  </tbody>\n",
       "</table>\n",
       "</div>"
      ],
      "text/plain": [
       "                                                      user_id  event_timestamp\n",
       "event_name                                utm_source                          \n",
       "blog                                      blog           1645             1645\n",
       "catalog/                                  blog            668              668\n",
       "                                          facebook       2388             2388\n",
       "catalog/divani/bed_bed_frame/             blog           1497             1497\n",
       "                                          facebook        537              537\n",
       "catalog/matrasy/sampleonlineshop_gravity/ facebook        245              245\n",
       "catalog/pillow/podushka_anatomicheskay/   blog            587              587\n",
       "                                          facebook        678              678\n",
       "delivery/                                 blog            237              237\n",
       "                                          facebook        822              822\n",
       "facebook                                  facebook       3793             3793\n",
       "o-kompanii                                blog            219              219\n",
       "                                          facebook        731              731\n",
       "order/                                    blog            175              175\n",
       "                                          facebook        310              310\n",
       "order/confirmation                        blog             80               80\n",
       "                                          facebook        438              438\n",
       "order/payment-option-switcher             blog            120              120\n",
       "                                          facebook        214              214\n",
       "passed                                    blog             66               66\n",
       "                                          facebook        342              342"
      ]
     },
     "execution_count": 25,
     "metadata": {},
     "output_type": "execute_result"
    }
   ],
   "source": [
    "data.groupby(['event_name','utm_source']).count()"
   ]
  },
  {
   "cell_type": "code",
   "execution_count": 15,
   "metadata": {},
   "outputs": [],
   "source": [
    "data['event_timestamp'] = pd.to_datetime(data['event_timestamp'])"
   ]
  },
  {
   "cell_type": "code",
   "execution_count": 16,
   "metadata": {},
   "outputs": [
    {
     "data": {
      "text/plain": [
       "user_id                     int64\n",
       "event_name                 object\n",
       "event_timestamp    datetime64[ns]\n",
       "utm_source                 object\n",
       "dtype: object"
      ]
     },
     "execution_count": 16,
     "metadata": {},
     "output_type": "execute_result"
    }
   ],
   "source": [
    "data.dtypes"
   ]
  },
  {
   "cell_type": "markdown",
   "metadata": {},
   "source": [
    "# Событие lost\n",
    "теперь всем пользователям, кто не купил (не было события 'order/submit'), мы добавляем событие \"lost\""
   ]
  },
  {
   "cell_type": "code",
   "execution_count": 17,
   "metadata": {},
   "outputs": [],
   "source": [
    "def add_lost_event(df,seconds_to_add=1):\n",
    "    #список пользователей, у которых было событие покупки\n",
    "    passed_ids = list(df[df[event_name]=='passed'][user_id])\n",
    "    #отфильтруем все события с несконвертированными пользователсями\n",
    "    lost_df = df[~df[user_id].isin(passed_ids)]\n",
    "    #сгруппируем датасет по пользователям и возьмем последнее по времени событие, прибавим к нему 1 секунду\n",
    "    lost_df = lost_df.groupby([user_id,'utm_source'])[[event_time]].max().reset_index()\n",
    "    \n",
    "    lost_df[event_time] = lost_df[event_time].apply(lambda x: x + timedelta(seconds=seconds_to_add))\n",
    "    #переименуем событие в lost у всех строк\n",
    "    lost_df[event_name] = 'lost'\n",
    "    #склеим 2 датафрейма\n",
    "    df_with_lost = pd.concat([df,lost_df])\n",
    "    \n",
    "    return df_with_lost"
   ]
  },
  {
   "cell_type": "code",
   "execution_count": 18,
   "metadata": {},
   "outputs": [
    {
     "data": {
      "text/html": [
       "<div>\n",
       "<style scoped>\n",
       "    .dataframe tbody tr th:only-of-type {\n",
       "        vertical-align: middle;\n",
       "    }\n",
       "\n",
       "    .dataframe tbody tr th {\n",
       "        vertical-align: top;\n",
       "    }\n",
       "\n",
       "    .dataframe thead th {\n",
       "        text-align: right;\n",
       "    }\n",
       "</style>\n",
       "<table border=\"1\" class=\"dataframe\">\n",
       "  <thead>\n",
       "    <tr style=\"text-align: right;\">\n",
       "      <th></th>\n",
       "      <th>user_id</th>\n",
       "      <th>event_name</th>\n",
       "      <th>event_timestamp</th>\n",
       "      <th>utm_source</th>\n",
       "    </tr>\n",
       "  </thead>\n",
       "  <tbody>\n",
       "    <tr>\n",
       "      <th>0</th>\n",
       "      <td>8395097477884212984</td>\n",
       "      <td>blog</td>\n",
       "      <td>2019-09-02 05:38:46.852262656</td>\n",
       "      <td>blog</td>\n",
       "    </tr>\n",
       "    <tr>\n",
       "      <th>1</th>\n",
       "      <td>4487962884362044925</td>\n",
       "      <td>blog</td>\n",
       "      <td>2019-09-01 21:51:42.811195648</td>\n",
       "      <td>blog</td>\n",
       "    </tr>\n",
       "    <tr>\n",
       "      <th>2</th>\n",
       "      <td>5868438858211963279</td>\n",
       "      <td>facebook</td>\n",
       "      <td>2019-09-01 14:51:00.401165312</td>\n",
       "      <td>facebook</td>\n",
       "    </tr>\n",
       "    <tr>\n",
       "      <th>3</th>\n",
       "      <td>5394116602469871813</td>\n",
       "      <td>blog</td>\n",
       "      <td>2019-09-01 18:06:18.137125888</td>\n",
       "      <td>blog</td>\n",
       "    </tr>\n",
       "    <tr>\n",
       "      <th>4</th>\n",
       "      <td>6285636856728637854</td>\n",
       "      <td>blog</td>\n",
       "      <td>2019-09-02 01:23:26.022273536</td>\n",
       "      <td>blog</td>\n",
       "    </tr>\n",
       "    <tr>\n",
       "      <th>...</th>\n",
       "      <td>...</td>\n",
       "      <td>...</td>\n",
       "      <td>...</td>\n",
       "      <td>...</td>\n",
       "    </tr>\n",
       "    <tr>\n",
       "      <th>3391</th>\n",
       "      <td>9211184395632652112</td>\n",
       "      <td>lost</td>\n",
       "      <td>2019-11-01 13:42:35.970815488</td>\n",
       "      <td>facebook</td>\n",
       "    </tr>\n",
       "    <tr>\n",
       "      <th>3392</th>\n",
       "      <td>9219484628138534504</td>\n",
       "      <td>lost</td>\n",
       "      <td>2019-10-30 02:24:56.885488128</td>\n",
       "      <td>facebook</td>\n",
       "    </tr>\n",
       "    <tr>\n",
       "      <th>3393</th>\n",
       "      <td>9222385022196670624</td>\n",
       "      <td>lost</td>\n",
       "      <td>2019-10-21 03:54:38.494139392</td>\n",
       "      <td>blog</td>\n",
       "    </tr>\n",
       "    <tr>\n",
       "      <th>3394</th>\n",
       "      <td>9222501761129383702</td>\n",
       "      <td>lost</td>\n",
       "      <td>2019-09-18 21:35:52.517752576</td>\n",
       "      <td>facebook</td>\n",
       "    </tr>\n",
       "    <tr>\n",
       "      <th>3395</th>\n",
       "      <td>9223320337369398956</td>\n",
       "      <td>lost</td>\n",
       "      <td>2019-09-17 07:09:15.151507712</td>\n",
       "      <td>blog</td>\n",
       "    </tr>\n",
       "  </tbody>\n",
       "</table>\n",
       "<p>19188 rows × 4 columns</p>\n",
       "</div>"
      ],
      "text/plain": [
       "                  user_id event_name               event_timestamp utm_source\n",
       "0     8395097477884212984       blog 2019-09-02 05:38:46.852262656       blog\n",
       "1     4487962884362044925       blog 2019-09-01 21:51:42.811195648       blog\n",
       "2     5868438858211963279   facebook 2019-09-01 14:51:00.401165312   facebook\n",
       "3     5394116602469871813       blog 2019-09-01 18:06:18.137125888       blog\n",
       "4     6285636856728637854       blog 2019-09-02 01:23:26.022273536       blog\n",
       "...                   ...        ...                           ...        ...\n",
       "3391  9211184395632652112       lost 2019-11-01 13:42:35.970815488   facebook\n",
       "3392  9219484628138534504       lost 2019-10-30 02:24:56.885488128   facebook\n",
       "3393  9222385022196670624       lost 2019-10-21 03:54:38.494139392       blog\n",
       "3394  9222501761129383702       lost 2019-09-18 21:35:52.517752576   facebook\n",
       "3395  9223320337369398956       lost 2019-09-17 07:09:15.151507712       blog\n",
       "\n",
       "[19188 rows x 4 columns]"
      ]
     },
     "execution_count": 18,
     "metadata": {},
     "output_type": "execute_result"
    }
   ],
   "source": [
    "#применяем функцию выше и получаем датафрейм, где у всех несконвертированных пользователей добавилось новое событие \"lost\"\n",
    "data_with_lost = add_lost_event(data)\n",
    "data_with_lost"
   ]
  },
  {
   "cell_type": "code",
   "execution_count": 19,
   "metadata": {
    "colab": {
     "base_uri": "https://localhost:8080/",
     "height": 69
    },
    "colab_type": "code",
    "id": "fR1qYzfUr744",
    "outputId": "ad61781f-95ea-46f8-e8e9-9fe02a4fb529"
   },
   "outputs": [
    {
     "data": {
      "text/plain": [
       "facebook    12816\n",
       "blog         6372\n",
       "Name: utm_source, dtype: int64"
      ]
     },
     "execution_count": 19,
     "metadata": {},
     "output_type": "execute_result"
    }
   ],
   "source": [
    "# обратим внимание на соотношение пользователей по РК\n",
    "data_with_lost[source].value_counts()"
   ]
  },
  {
   "cell_type": "markdown",
   "metadata": {
    "colab_type": "text",
    "id": "8xtFksC6RBnc"
   },
   "source": [
    " Посмотрим траекторию одного пользователя"
   ]
  },
  {
   "cell_type": "code",
   "execution_count": 20,
   "metadata": {
    "colab": {
     "base_uri": "https://localhost:8080/",
     "height": 110
    },
    "colab_type": "code",
    "id": "Eovqs0Q5huh7",
    "outputId": "0e93446f-df79-4955-e017-05c6ec382873"
   },
   "outputs": [
    {
     "data": {
      "text/html": [
       "<div>\n",
       "<style scoped>\n",
       "    .dataframe tbody tr th:only-of-type {\n",
       "        vertical-align: middle;\n",
       "    }\n",
       "\n",
       "    .dataframe tbody tr th {\n",
       "        vertical-align: top;\n",
       "    }\n",
       "\n",
       "    .dataframe thead th {\n",
       "        text-align: right;\n",
       "    }\n",
       "</style>\n",
       "<table border=\"1\" class=\"dataframe\">\n",
       "  <thead>\n",
       "    <tr style=\"text-align: right;\">\n",
       "      <th></th>\n",
       "      <th>user_id</th>\n",
       "      <th>event_name</th>\n",
       "      <th>event_timestamp</th>\n",
       "      <th>utm_source</th>\n",
       "    </tr>\n",
       "  </thead>\n",
       "  <tbody>\n",
       "    <tr>\n",
       "      <th>6</th>\n",
       "      <td>2163557180402591013</td>\n",
       "      <td>blog</td>\n",
       "      <td>2019-09-01 10:58:26.619910912</td>\n",
       "      <td>blog</td>\n",
       "    </tr>\n",
       "    <tr>\n",
       "      <th>824</th>\n",
       "      <td>2163557180402591013</td>\n",
       "      <td>lost</td>\n",
       "      <td>2019-09-01 10:58:27.619910912</td>\n",
       "      <td>blog</td>\n",
       "    </tr>\n",
       "  </tbody>\n",
       "</table>\n",
       "</div>"
      ],
      "text/plain": [
       "                 user_id event_name               event_timestamp utm_source\n",
       "6    2163557180402591013       blog 2019-09-01 10:58:26.619910912       blog\n",
       "824  2163557180402591013       lost 2019-09-01 10:58:27.619910912       blog"
      ]
     },
     "execution_count": 20,
     "metadata": {},
     "output_type": "execute_result"
    }
   ],
   "source": [
    "user=2163557180402591013\n",
    "single_user_trajectory = data_with_lost[data_with_lost.user_id == user]\n",
    "single_user_trajectory"
   ]
  },
  {
   "cell_type": "markdown",
   "metadata": {
    "colab_type": "text",
    "id": "6RfPaa3RRt0M"
   },
   "source": [
    "Состав событий\n"
   ]
  },
  {
   "cell_type": "code",
   "execution_count": 21,
   "metadata": {
    "colab": {
     "base_uri": "https://localhost:8080/",
     "height": 260
    },
    "colab_type": "code",
    "id": "ByKWoUpQRcpS",
    "outputId": "332021c5-6d23-47f2-caf4-527fa9381a14"
   },
   "outputs": [
    {
     "data": {
      "text/plain": [
       "0                                           blog\n",
       "2                                       facebook\n",
       "21                                    o-kompanii\n",
       "35                                      catalog/\n",
       "45                 catalog/divani/bed_bed_frame/\n",
       "108                                    delivery/\n",
       "310      catalog/pillow/podushka_anatomicheskay/\n",
       "367    catalog/matrasy/sampleonlineshop_gravity/\n",
       "461                                       order/\n",
       "536                           order/confirmation\n",
       "817                                       passed\n",
       "852                order/payment-option-switcher\n",
       "0                                           lost\n",
       "Name: event_name, dtype: object"
      ]
     },
     "execution_count": 21,
     "metadata": {},
     "output_type": "execute_result"
    }
   ],
   "source": [
    "data_with_lost[event_name].drop_duplicates()"
   ]
  },
  {
   "cell_type": "markdown",
   "metadata": {
    "colab_type": "text",
    "id": "zfS4m5Xor75F"
   },
   "source": [
    "# Граф\n",
    "\n",
    "Посмотрим расположение событий в виде графа\n",
    "\n",
    "Проверяем, что все события присутствуют, корректно отображаются. \n",
    "\n",
    "Однако, сделать вывод о проблемном месте по данной картине затруднительно"
   ]
  },
  {
   "cell_type": "code",
   "execution_count": 26,
   "metadata": {},
   "outputs": [
    {
     "data": {
      "text/html": [
       "\n",
       "        <iframe\n",
       "            width=\"1000\"\n",
       "            height=\"700\"\n",
       "            src=\"experiments/graph_2022-08-04 13_04_33_935601.html\"\n",
       "            frameborder=\"0\"\n",
       "            allowfullscreen\n",
       "            \n",
       "        ></iframe>\n",
       "        "
      ],
      "text/plain": [
       "<IPython.lib.display.IFrame at 0x7fc8808aa670>"
      ]
     },
     "metadata": {},
     "output_type": "display_data"
    }
   ],
   "source": [
    "data_with_lost.rete.plot_graph(\n",
    "                     #weight_col='user_id',# None(default), 'column' e.g.'client_id'\n",
    "                     norm_type='full',#'full'(default), None(absolute values), 'node'\n",
    "                     targets={'passed':'green',\n",
    "                                'lost':'red'\n",
    "                               },\n",
    "                     thresh=0.01,\n",
    "                    );"
   ]
  },
  {
   "cell_type": "code",
   "execution_count": 21,
   "metadata": {},
   "outputs": [
    {
     "data": {
      "text/html": [
       "\n",
       "        <iframe\n",
       "            width=\"1000\"\n",
       "            height=\"700\"\n",
       "            src=\"experiments/graph_2022-08-04 11_11_36_852977.html\"\n",
       "            frameborder=\"0\"\n",
       "            allowfullscreen\n",
       "            \n",
       "        ></iframe>\n",
       "        "
      ],
      "text/plain": [
       "<IPython.lib.display.IFrame at 0x7fb8257cfa30>"
      ]
     },
     "metadata": {},
     "output_type": "display_data"
    }
   ],
   "source": [
    "data_with_lost.rete.plot_graph(\n",
    "                     #weight_col='user_id',# None(default), 'column' e.g.'client_id'\n",
    "                     norm_type='full',#'full'(default), None(absolute values), 'node'\n",
    "                     targets={'passed':'green',\n",
    "                                'lost':'red',\n",
    "                              'facebook':'source',\n",
    "                              'blog':'source'\n",
    "                               },\n",
    "                     thresh=0.01,\n",
    "                    );"
   ]
  },
  {
   "cell_type": "markdown",
   "metadata": {
    "colab_type": "text",
    "id": "6UVUxP6pR1ep"
   },
   "source": [
    "Какие переходы между событиями есть в наших данных:\n"
   ]
  },
  {
   "cell_type": "code",
   "execution_count": 22,
   "metadata": {
    "colab": {},
    "colab_type": "code",
    "id": "Sth0TcdolAts"
   },
   "outputs": [
    {
     "data": {
      "text/html": [
       "<div>\n",
       "<style scoped>\n",
       "    .dataframe tbody tr th:only-of-type {\n",
       "        vertical-align: middle;\n",
       "    }\n",
       "\n",
       "    .dataframe tbody tr th {\n",
       "        vertical-align: top;\n",
       "    }\n",
       "\n",
       "    .dataframe thead th {\n",
       "        text-align: right;\n",
       "    }\n",
       "</style>\n",
       "<table border=\"1\" class=\"dataframe\">\n",
       "  <thead>\n",
       "    <tr style=\"text-align: right;\">\n",
       "      <th></th>\n",
       "      <th>event_name</th>\n",
       "      <th>next_event_name</th>\n",
       "      <th>users_nunique</th>\n",
       "    </tr>\n",
       "  </thead>\n",
       "  <tbody>\n",
       "    <tr>\n",
       "      <th>35</th>\n",
       "      <td>facebook</td>\n",
       "      <td>catalog/</td>\n",
       "      <td>1610</td>\n",
       "    </tr>\n",
       "    <tr>\n",
       "      <th>9</th>\n",
       "      <td>catalog/</td>\n",
       "      <td>catalog/pillow/podushka_anatomicheskay/</td>\n",
       "      <td>881</td>\n",
       "    </tr>\n",
       "    <tr>\n",
       "      <th>38</th>\n",
       "      <td>facebook</td>\n",
       "      <td>lost</td>\n",
       "      <td>837</td>\n",
       "    </tr>\n",
       "    <tr>\n",
       "      <th>2</th>\n",
       "      <td>blog</td>\n",
       "      <td>catalog/divani/bed_bed_frame/</td>\n",
       "      <td>594</td>\n",
       "    </tr>\n",
       "    <tr>\n",
       "      <th>11</th>\n",
       "      <td>catalog/</td>\n",
       "      <td>lost</td>\n",
       "      <td>590</td>\n",
       "    </tr>\n",
       "  </tbody>\n",
       "</table>\n",
       "</div>"
      ],
      "text/plain": [
       "   event_name                          next_event_name  users_nunique\n",
       "35   facebook                                 catalog/           1610\n",
       "9    catalog/  catalog/pillow/podushka_anatomicheskay/            881\n",
       "38   facebook                                     lost            837\n",
       "2        blog            catalog/divani/bed_bed_frame/            594\n",
       "11   catalog/                                     lost            590"
      ]
     },
     "execution_count": 22,
     "metadata": {},
     "output_type": "execute_result"
    }
   ],
   "source": [
    "edgelist = data_with_lost.rete.get_edgelist(weight_col='user_id', norm_type=None, edge_attributes='users_nunique')\n",
    "edgelist.sort_values('users_nunique', ascending=False).head(5)"
   ]
  },
  {
   "cell_type": "markdown",
   "metadata": {
    "colab_type": "text",
    "id": "0flhgBZ4R-WH"
   },
   "source": [
    "Построим матрицу переходов пользователей между событиями (матрицу связности)"
   ]
  },
  {
   "cell_type": "code",
   "execution_count": 23,
   "metadata": {
    "colab": {
     "base_uri": "https://localhost:8080/",
     "height": 436
    },
    "colab_type": "code",
    "id": "jgsjG3ZfzYkq",
    "outputId": "64523de3-57b8-4a70-d1a0-d94bce495fcb"
   },
   "outputs": [
    {
     "name": "stdout",
     "output_type": "stream",
     "text": [
      "\n",
      "\n",
      "\n",
      "\n"
     ]
    },
    {
     "data": {
      "text/html": [
       "<style type=\"text/css\">\n",
       "#T_fae10_ th {\n",
       "  font-size: 75%;\n",
       "  text-align: right;\n",
       "}\n",
       "#T_fae10_ th.col_heading {\n",
       "  font-size: 75%;\n",
       "  text-align: left;\n",
       "  transform: translate(0%,-30%) rotate(-10deg);\n",
       "}\n",
       "#T_fae10_ caption {\n",
       "  caption-side: bottom;\n",
       "}\n",
       "#T_fae10_row0_col0, #T_fae10_row0_col2, #T_fae10_row1_col6, #T_fae10_row1_col7, #T_fae10_row2_col8, #T_fae10_row8_col11, #T_fae10_row9_col12, #T_fae10_row10_col1, #T_fae10_row10_col3, #T_fae10_row10_col4, #T_fae10_row10_col5, #T_fae10_row10_col10, #T_fae10_row11_col9 {\n",
       "  background-color: #008000;\n",
       "  color: #f1f1f1;\n",
       "}\n",
       "#T_fae10_row0_col1 {\n",
       "  background-color: #d5e9d5;\n",
       "  color: #000000;\n",
       "}\n",
       "#T_fae10_row0_col3 {\n",
       "  background-color: #84c084;\n",
       "  color: #000000;\n",
       "}\n",
       "#T_fae10_row0_col4, #T_fae10_row3_col4 {\n",
       "  background-color: #89c389;\n",
       "  color: #000000;\n",
       "}\n",
       "#T_fae10_row0_col5 {\n",
       "  background-color: #79bc79;\n",
       "  color: #000000;\n",
       "}\n",
       "#T_fae10_row0_col6, #T_fae10_row0_col7, #T_fae10_row0_col8, #T_fae10_row0_col9, #T_fae10_row0_col10, #T_fae10_row0_col11, #T_fae10_row0_col12, #T_fae10_row1_col0, #T_fae10_row1_col8, #T_fae10_row1_col9, #T_fae10_row1_col10, #T_fae10_row1_col11, #T_fae10_row1_col12, #T_fae10_row2_col0, #T_fae10_row2_col3, #T_fae10_row2_col5, #T_fae10_row2_col6, #T_fae10_row2_col7, #T_fae10_row2_col10, #T_fae10_row2_col11, #T_fae10_row2_col12, #T_fae10_row3_col2, #T_fae10_row3_col6, #T_fae10_row3_col7, #T_fae10_row3_col8, #T_fae10_row3_col9, #T_fae10_row3_col11, #T_fae10_row3_col12, #T_fae10_row4_col0, #T_fae10_row4_col1, #T_fae10_row4_col2, #T_fae10_row4_col3, #T_fae10_row4_col4, #T_fae10_row4_col5, #T_fae10_row4_col6, #T_fae10_row4_col7, #T_fae10_row4_col8, #T_fae10_row4_col9, #T_fae10_row4_col10, #T_fae10_row4_col11, #T_fae10_row4_col12, #T_fae10_row5_col2, #T_fae10_row5_col6, #T_fae10_row5_col7, #T_fae10_row5_col8, #T_fae10_row5_col9, #T_fae10_row5_col11, #T_fae10_row5_col12, #T_fae10_row6_col0, #T_fae10_row6_col2, #T_fae10_row6_col3, #T_fae10_row6_col5, #T_fae10_row6_col6, #T_fae10_row6_col7, #T_fae10_row6_col11, #T_fae10_row6_col12, #T_fae10_row7_col2, #T_fae10_row7_col3, #T_fae10_row7_col5, #T_fae10_row7_col6, #T_fae10_row7_col10, #T_fae10_row7_col11, #T_fae10_row7_col12, #T_fae10_row8_col2, #T_fae10_row8_col3, #T_fae10_row8_col5, #T_fae10_row8_col6, #T_fae10_row8_col7, #T_fae10_row8_col9, #T_fae10_row8_col12, #T_fae10_row9_col1, #T_fae10_row9_col2, #T_fae10_row9_col3, #T_fae10_row9_col5, #T_fae10_row9_col6, #T_fae10_row9_col7, #T_fae10_row9_col8, #T_fae10_row9_col9, #T_fae10_row9_col11, #T_fae10_row10_col0, #T_fae10_row10_col2, #T_fae10_row10_col6, #T_fae10_row10_col7, #T_fae10_row10_col8, #T_fae10_row10_col9, #T_fae10_row10_col11, #T_fae10_row10_col12, #T_fae10_row11_col0, #T_fae10_row11_col1, #T_fae10_row11_col2, #T_fae10_row11_col3, #T_fae10_row11_col5, #T_fae10_row11_col6, #T_fae10_row11_col7, #T_fae10_row11_col8, #T_fae10_row11_col10, #T_fae10_row11_col12, #T_fae10_row12_col1, #T_fae10_row12_col2, #T_fae10_row12_col3, #T_fae10_row12_col4, #T_fae10_row12_col5, #T_fae10_row12_col6, #T_fae10_row12_col7, #T_fae10_row12_col8, #T_fae10_row12_col9, #T_fae10_row12_col11, #T_fae10_row12_col12 {\n",
       "  background-color: #ebf3eb;\n",
       "  color: #000000;\n",
       "}\n",
       "#T_fae10_row1_col1 {\n",
       "  background-color: #ddecdd;\n",
       "  color: #000000;\n",
       "}\n",
       "#T_fae10_row1_col2 {\n",
       "  background-color: #42a042;\n",
       "  color: #f1f1f1;\n",
       "}\n",
       "#T_fae10_row1_col3, #T_fae10_row7_col8 {\n",
       "  background-color: #55a955;\n",
       "  color: #f1f1f1;\n",
       "}\n",
       "#T_fae10_row1_col4 {\n",
       "  background-color: #45a245;\n",
       "  color: #f1f1f1;\n",
       "}\n",
       "#T_fae10_row1_col5 {\n",
       "  background-color: #54a954;\n",
       "  color: #f1f1f1;\n",
       "}\n",
       "#T_fae10_row2_col1 {\n",
       "  background-color: #c2dfc2;\n",
       "  color: #000000;\n",
       "}\n",
       "#T_fae10_row2_col2 {\n",
       "  background-color: #49a449;\n",
       "  color: #f1f1f1;\n",
       "}\n",
       "#T_fae10_row2_col4 {\n",
       "  background-color: #66b266;\n",
       "  color: #f1f1f1;\n",
       "}\n",
       "#T_fae10_row2_col9 {\n",
       "  background-color: #7fbe7f;\n",
       "  color: #000000;\n",
       "}\n",
       "#T_fae10_row3_col0 {\n",
       "  background-color: #6fb76f;\n",
       "  color: #f1f1f1;\n",
       "}\n",
       "#T_fae10_row3_col1 {\n",
       "  background-color: #deedde;\n",
       "  color: #000000;\n",
       "}\n",
       "#T_fae10_row3_col3 {\n",
       "  background-color: #b2d7b1;\n",
       "  color: #000000;\n",
       "}\n",
       "#T_fae10_row3_col5 {\n",
       "  background-color: #a3d0a3;\n",
       "  color: #000000;\n",
       "}\n",
       "#T_fae10_row3_col10 {\n",
       "  background-color: #1e8f1e;\n",
       "  color: #f1f1f1;\n",
       "}\n",
       "#T_fae10_row5_col0 {\n",
       "  background-color: #74b974;\n",
       "  color: #f1f1f1;\n",
       "}\n",
       "#T_fae10_row5_col1, #T_fae10_row11_col4 {\n",
       "  background-color: #dfeddf;\n",
       "  color: #000000;\n",
       "}\n",
       "#T_fae10_row5_col3 {\n",
       "  background-color: #70b770;\n",
       "  color: #f1f1f1;\n",
       "}\n",
       "#T_fae10_row5_col4 {\n",
       "  background-color: #b3d8b3;\n",
       "  color: #000000;\n",
       "}\n",
       "#T_fae10_row5_col5 {\n",
       "  background-color: #b0d6b0;\n",
       "  color: #000000;\n",
       "}\n",
       "#T_fae10_row5_col10 {\n",
       "  background-color: #359a35;\n",
       "  color: #f1f1f1;\n",
       "}\n",
       "#T_fae10_row6_col1, #T_fae10_row9_col0 {\n",
       "  background-color: #e5f0e5;\n",
       "  color: #000000;\n",
       "}\n",
       "#T_fae10_row6_col4, #T_fae10_row8_col4 {\n",
       "  background-color: #daebda;\n",
       "  color: #000000;\n",
       "}\n",
       "#T_fae10_row6_col8 {\n",
       "  background-color: #b7dab7;\n",
       "  color: #000000;\n",
       "}\n",
       "#T_fae10_row6_col9 {\n",
       "  background-color: #a8d2a8;\n",
       "  color: #000000;\n",
       "}\n",
       "#T_fae10_row6_col10 {\n",
       "  background-color: #d7e9d7;\n",
       "  color: #000000;\n",
       "}\n",
       "#T_fae10_row7_col0 {\n",
       "  background-color: #2b952b;\n",
       "  color: #f1f1f1;\n",
       "}\n",
       "#T_fae10_row7_col1 {\n",
       "  background-color: #c1dfc1;\n",
       "  color: #000000;\n",
       "}\n",
       "#T_fae10_row7_col4 {\n",
       "  background-color: #83c083;\n",
       "  color: #000000;\n",
       "}\n",
       "#T_fae10_row7_col7, #T_fae10_row8_col10 {\n",
       "  background-color: #d4e8d4;\n",
       "  color: #000000;\n",
       "}\n",
       "#T_fae10_row7_col9 {\n",
       "  background-color: #5fae5f;\n",
       "  color: #f1f1f1;\n",
       "}\n",
       "#T_fae10_row8_col0 {\n",
       "  background-color: #cde5cd;\n",
       "  color: #000000;\n",
       "}\n",
       "#T_fae10_row8_col1 {\n",
       "  background-color: #e3efe3;\n",
       "  color: #000000;\n",
       "}\n",
       "#T_fae10_row8_col8 {\n",
       "  background-color: #bbdcbb;\n",
       "  color: #000000;\n",
       "}\n",
       "#T_fae10_row9_col4 {\n",
       "  background-color: #d8ead8;\n",
       "  color: #000000;\n",
       "}\n",
       "#T_fae10_row9_col10 {\n",
       "  background-color: #d0e6d0;\n",
       "  color: #000000;\n",
       "}\n",
       "#T_fae10_row11_col11 {\n",
       "  background-color: #bcdcbc;\n",
       "  color: #000000;\n",
       "}\n",
       "#T_fae10_row12_col0 {\n",
       "  background-color: #e8f2e8;\n",
       "  color: #000000;\n",
       "}\n",
       "#T_fae10_row12_col10 {\n",
       "  background-color: #cfe5cf;\n",
       "  color: #000000;\n",
       "}\n",
       "</style>\n",
       "<table id=\"T_fae10_\">\n",
       "  <caption> .</caption>\n",
       "  <thead>\n",
       "    <tr>\n",
       "      <th class=\"blank level0\" >&nbsp;</th>\n",
       "      <th class=\"col_heading level0 col0\" >blog</th>\n",
       "      <th class=\"col_heading level0 col1\" >catalog/</th>\n",
       "      <th class=\"col_heading level0 col2\" >catalog/divani/bed_bed_frame/</th>\n",
       "      <th class=\"col_heading level0 col3\" >delivery/</th>\n",
       "      <th class=\"col_heading level0 col4\" >lost</th>\n",
       "      <th class=\"col_heading level0 col5\" >o-kompanii</th>\n",
       "      <th class=\"col_heading level0 col6\" >catalog/matrasy/sampleonlineshop_gravity/</th>\n",
       "      <th class=\"col_heading level0 col7\" >catalog/pillow/podushka_anatomicheskay/</th>\n",
       "      <th class=\"col_heading level0 col8\" >order/</th>\n",
       "      <th class=\"col_heading level0 col9\" >order/confirmation</th>\n",
       "      <th class=\"col_heading level0 col10\" >facebook</th>\n",
       "      <th class=\"col_heading level0 col11\" >order/payment-option-switcher</th>\n",
       "      <th class=\"col_heading level0 col12\" >passed</th>\n",
       "    </tr>\n",
       "  </thead>\n",
       "  <tbody>\n",
       "    <tr>\n",
       "      <th id=\"T_fae10_level0_row0\" class=\"row_heading level0 row0\" >blog</th>\n",
       "      <td id=\"T_fae10_row0_col0\" class=\"data row0 col0\" >150.000000</td>\n",
       "      <td id=\"T_fae10_row0_col1\" class=\"data row0 col1\" >148.000000</td>\n",
       "      <td id=\"T_fae10_row0_col2\" class=\"data row0 col2\" >594.000000</td>\n",
       "      <td id=\"T_fae10_row0_col3\" class=\"data row0 col3\" >152.000000</td>\n",
       "      <td id=\"T_fae10_row0_col4\" class=\"data row0 col4\" >348.000000</td>\n",
       "      <td id=\"T_fae10_row0_col5\" class=\"data row0 col5\" >158.000000</td>\n",
       "      <td id=\"T_fae10_row0_col6\" class=\"data row0 col6\" >0.000000</td>\n",
       "      <td id=\"T_fae10_row0_col7\" class=\"data row0 col7\" >0.000000</td>\n",
       "      <td id=\"T_fae10_row0_col8\" class=\"data row0 col8\" >0.000000</td>\n",
       "      <td id=\"T_fae10_row0_col9\" class=\"data row0 col9\" >0.000000</td>\n",
       "      <td id=\"T_fae10_row0_col10\" class=\"data row0 col10\" >0.000000</td>\n",
       "      <td id=\"T_fae10_row0_col11\" class=\"data row0 col11\" >0.000000</td>\n",
       "      <td id=\"T_fae10_row0_col12\" class=\"data row0 col12\" >0.000000</td>\n",
       "    </tr>\n",
       "    <tr>\n",
       "      <th id=\"T_fae10_level0_row1\" class=\"row_heading level0 row1\" >catalog/</th>\n",
       "      <td id=\"T_fae10_row1_col0\" class=\"data row1 col0\" >0.000000</td>\n",
       "      <td id=\"T_fae10_row1_col1\" class=\"data row1 col1\" >95.000000</td>\n",
       "      <td id=\"T_fae10_row1_col2\" class=\"data row1 col2\" >426.000000</td>\n",
       "      <td id=\"T_fae10_row1_col3\" class=\"data row1 col3\" >221.000000</td>\n",
       "      <td id=\"T_fae10_row1_col4\" class=\"data row1 col4\" >590.000000</td>\n",
       "      <td id=\"T_fae10_row1_col5\" class=\"data row1 col5\" >211.000000</td>\n",
       "      <td id=\"T_fae10_row1_col6\" class=\"data row1 col6\" >234.000000</td>\n",
       "      <td id=\"T_fae10_row1_col7\" class=\"data row1 col7\" >881.000000</td>\n",
       "      <td id=\"T_fae10_row1_col8\" class=\"data row1 col8\" >0.000000</td>\n",
       "      <td id=\"T_fae10_row1_col9\" class=\"data row1 col9\" >0.000000</td>\n",
       "      <td id=\"T_fae10_row1_col10\" class=\"data row1 col10\" >0.000000</td>\n",
       "      <td id=\"T_fae10_row1_col11\" class=\"data row1 col11\" >0.000000</td>\n",
       "      <td id=\"T_fae10_row1_col12\" class=\"data row1 col12\" >0.000000</td>\n",
       "    </tr>\n",
       "    <tr>\n",
       "      <th id=\"T_fae10_level0_row2\" class=\"row_heading level0 row2\" >catalog/divani/bed_bed_frame/</th>\n",
       "      <td id=\"T_fae10_row2_col0\" class=\"data row2 col0\" >0.000000</td>\n",
       "      <td id=\"T_fae10_row2_col1\" class=\"data row2 col1\" >278.000000</td>\n",
       "      <td id=\"T_fae10_row2_col2\" class=\"data row2 col2\" >409.000000</td>\n",
       "      <td id=\"T_fae10_row2_col3\" class=\"data row2 col3\" >0.000000</td>\n",
       "      <td id=\"T_fae10_row2_col4\" class=\"data row2 col4\" >473.000000</td>\n",
       "      <td id=\"T_fae10_row2_col5\" class=\"data row2 col5\" >0.000000</td>\n",
       "      <td id=\"T_fae10_row2_col6\" class=\"data row2 col6\" >0.000000</td>\n",
       "      <td id=\"T_fae10_row2_col7\" class=\"data row2 col7\" >0.000000</td>\n",
       "      <td id=\"T_fae10_row2_col8\" class=\"data row2 col8\" >228.000000</td>\n",
       "      <td id=\"T_fae10_row2_col9\" class=\"data row2 col9\" >101.000000</td>\n",
       "      <td id=\"T_fae10_row2_col10\" class=\"data row2 col10\" >0.000000</td>\n",
       "      <td id=\"T_fae10_row2_col11\" class=\"data row2 col11\" >0.000000</td>\n",
       "      <td id=\"T_fae10_row2_col12\" class=\"data row2 col12\" >0.000000</td>\n",
       "    </tr>\n",
       "    <tr>\n",
       "      <th id=\"T_fae10_level0_row3\" class=\"row_heading level0 row3\" >delivery/</th>\n",
       "      <td id=\"T_fae10_row3_col0\" class=\"data row3 col0\" >79.000000</td>\n",
       "      <td id=\"T_fae10_row3_col1\" class=\"data row3 col1\" >91.000000</td>\n",
       "      <td id=\"T_fae10_row3_col2\" class=\"data row3 col2\" >0.000000</td>\n",
       "      <td id=\"T_fae10_row3_col3\" class=\"data row3 col3\" >85.000000</td>\n",
       "      <td id=\"T_fae10_row3_col4\" class=\"data row3 col4\" >347.000000</td>\n",
       "      <td id=\"T_fae10_row3_col5\" class=\"data row3 col5\" >100.000000</td>\n",
       "      <td id=\"T_fae10_row3_col6\" class=\"data row3 col6\" >0.000000</td>\n",
       "      <td id=\"T_fae10_row3_col7\" class=\"data row3 col7\" >0.000000</td>\n",
       "      <td id=\"T_fae10_row3_col8\" class=\"data row3 col8\" >0.000000</td>\n",
       "      <td id=\"T_fae10_row3_col9\" class=\"data row3 col9\" >0.000000</td>\n",
       "      <td id=\"T_fae10_row3_col10\" class=\"data row3 col10\" >295.000000</td>\n",
       "      <td id=\"T_fae10_row3_col11\" class=\"data row3 col11\" >0.000000</td>\n",
       "      <td id=\"T_fae10_row3_col12\" class=\"data row3 col12\" >0.000000</td>\n",
       "    </tr>\n",
       "    <tr>\n",
       "      <th id=\"T_fae10_level0_row4\" class=\"row_heading level0 row4\" >lost</th>\n",
       "      <td id=\"T_fae10_row4_col0\" class=\"data row4 col0\" >0.000000</td>\n",
       "      <td id=\"T_fae10_row4_col1\" class=\"data row4 col1\" >0.000000</td>\n",
       "      <td id=\"T_fae10_row4_col2\" class=\"data row4 col2\" >0.000000</td>\n",
       "      <td id=\"T_fae10_row4_col3\" class=\"data row4 col3\" >0.000000</td>\n",
       "      <td id=\"T_fae10_row4_col4\" class=\"data row4 col4\" >0.000000</td>\n",
       "      <td id=\"T_fae10_row4_col5\" class=\"data row4 col5\" >0.000000</td>\n",
       "      <td id=\"T_fae10_row4_col6\" class=\"data row4 col6\" >0.000000</td>\n",
       "      <td id=\"T_fae10_row4_col7\" class=\"data row4 col7\" >0.000000</td>\n",
       "      <td id=\"T_fae10_row4_col8\" class=\"data row4 col8\" >0.000000</td>\n",
       "      <td id=\"T_fae10_row4_col9\" class=\"data row4 col9\" >0.000000</td>\n",
       "      <td id=\"T_fae10_row4_col10\" class=\"data row4 col10\" >0.000000</td>\n",
       "      <td id=\"T_fae10_row4_col11\" class=\"data row4 col11\" >0.000000</td>\n",
       "      <td id=\"T_fae10_row4_col12\" class=\"data row4 col12\" >0.000000</td>\n",
       "    </tr>\n",
       "    <tr>\n",
       "      <th id=\"T_fae10_level0_row5\" class=\"row_heading level0 row5\" >o-kompanii</th>\n",
       "      <td id=\"T_fae10_row5_col0\" class=\"data row5 col0\" >76.000000</td>\n",
       "      <td id=\"T_fae10_row5_col1\" class=\"data row5 col1\" >84.000000</td>\n",
       "      <td id=\"T_fae10_row5_col2\" class=\"data row5 col2\" >0.000000</td>\n",
       "      <td id=\"T_fae10_row5_col3\" class=\"data row5 col3\" >181.000000</td>\n",
       "      <td id=\"T_fae10_row5_col4\" class=\"data row5 col4\" >198.000000</td>\n",
       "      <td id=\"T_fae10_row5_col5\" class=\"data row5 col5\" >82.000000</td>\n",
       "      <td id=\"T_fae10_row5_col6\" class=\"data row5 col6\" >0.000000</td>\n",
       "      <td id=\"T_fae10_row5_col7\" class=\"data row5 col7\" >0.000000</td>\n",
       "      <td id=\"T_fae10_row5_col8\" class=\"data row5 col8\" >0.000000</td>\n",
       "      <td id=\"T_fae10_row5_col9\" class=\"data row5 col9\" >0.000000</td>\n",
       "      <td id=\"T_fae10_row5_col10\" class=\"data row5 col10\" >261.000000</td>\n",
       "      <td id=\"T_fae10_row5_col11\" class=\"data row5 col11\" >0.000000</td>\n",
       "      <td id=\"T_fae10_row5_col12\" class=\"data row5 col12\" >0.000000</td>\n",
       "    </tr>\n",
       "    <tr>\n",
       "      <th id=\"T_fae10_level0_row6\" class=\"row_heading level0 row6\" >catalog/matrasy/sampleonlineshop_gravity/</th>\n",
       "      <td id=\"T_fae10_row6_col0\" class=\"data row6 col0\" >0.000000</td>\n",
       "      <td id=\"T_fae10_row6_col1\" class=\"data row6 col1\" >44.000000</td>\n",
       "      <td id=\"T_fae10_row6_col2\" class=\"data row6 col2\" >0.000000</td>\n",
       "      <td id=\"T_fae10_row6_col3\" class=\"data row6 col3\" >0.000000</td>\n",
       "      <td id=\"T_fae10_row6_col4\" class=\"data row6 col4\" >60.000000</td>\n",
       "      <td id=\"T_fae10_row6_col5\" class=\"data row6 col5\" >0.000000</td>\n",
       "      <td id=\"T_fae10_row6_col6\" class=\"data row6 col6\" >0.000000</td>\n",
       "      <td id=\"T_fae10_row6_col7\" class=\"data row6 col7\" >0.000000</td>\n",
       "      <td id=\"T_fae10_row6_col8\" class=\"data row6 col8\" >50.000000</td>\n",
       "      <td id=\"T_fae10_row6_col9\" class=\"data row6 col9\" >62.000000</td>\n",
       "      <td id=\"T_fae10_row6_col10\" class=\"data row6 col10\" >28.000000</td>\n",
       "      <td id=\"T_fae10_row6_col11\" class=\"data row6 col11\" >0.000000</td>\n",
       "      <td id=\"T_fae10_row6_col12\" class=\"data row6 col12\" >0.000000</td>\n",
       "    </tr>\n",
       "    <tr>\n",
       "      <th id=\"T_fae10_level0_row7\" class=\"row_heading level0 row7\" >catalog/pillow/podushka_anatomicheskay/</th>\n",
       "      <td id=\"T_fae10_row7_col0\" class=\"data row7 col0\" >122.000000</td>\n",
       "      <td id=\"T_fae10_row7_col1\" class=\"data row7 col1\" >288.000000</td>\n",
       "      <td id=\"T_fae10_row7_col2\" class=\"data row7 col2\" >0.000000</td>\n",
       "      <td id=\"T_fae10_row7_col3\" class=\"data row7 col3\" >0.000000</td>\n",
       "      <td id=\"T_fae10_row7_col4\" class=\"data row7 col4\" >371.000000</td>\n",
       "      <td id=\"T_fae10_row7_col5\" class=\"data row7 col5\" >0.000000</td>\n",
       "      <td id=\"T_fae10_row7_col6\" class=\"data row7 col6\" >0.000000</td>\n",
       "      <td id=\"T_fae10_row7_col7\" class=\"data row7 col7\" >85.000000</td>\n",
       "      <td id=\"T_fae10_row7_col8\" class=\"data row7 col8\" >146.000000</td>\n",
       "      <td id=\"T_fae10_row7_col9\" class=\"data row7 col9\" >131.000000</td>\n",
       "      <td id=\"T_fae10_row7_col10\" class=\"data row7 col10\" >0.000000</td>\n",
       "      <td id=\"T_fae10_row7_col11\" class=\"data row7 col11\" >0.000000</td>\n",
       "      <td id=\"T_fae10_row7_col12\" class=\"data row7 col12\" >0.000000</td>\n",
       "    </tr>\n",
       "    <tr>\n",
       "      <th id=\"T_fae10_level0_row8\" class=\"row_heading level0 row8\" >order/</th>\n",
       "      <td id=\"T_fae10_row8_col0\" class=\"data row8 col0\" >19.000000</td>\n",
       "      <td id=\"T_fae10_row8_col1\" class=\"data row8 col1\" >54.000000</td>\n",
       "      <td id=\"T_fae10_row8_col2\" class=\"data row8 col2\" >0.000000</td>\n",
       "      <td id=\"T_fae10_row8_col3\" class=\"data row8 col3\" >0.000000</td>\n",
       "      <td id=\"T_fae10_row8_col4\" class=\"data row8 col4\" >60.000000</td>\n",
       "      <td id=\"T_fae10_row8_col5\" class=\"data row8 col5\" >0.000000</td>\n",
       "      <td id=\"T_fae10_row8_col6\" class=\"data row8 col6\" >0.000000</td>\n",
       "      <td id=\"T_fae10_row8_col7\" class=\"data row8 col7\" >0.000000</td>\n",
       "      <td id=\"T_fae10_row8_col8\" class=\"data row8 col8\" >47.000000</td>\n",
       "      <td id=\"T_fae10_row8_col9\" class=\"data row8 col9\" >0.000000</td>\n",
       "      <td id=\"T_fae10_row8_col10\" class=\"data row8 col10\" >32.000000</td>\n",
       "      <td id=\"T_fae10_row8_col11\" class=\"data row8 col11\" >267.000000</td>\n",
       "      <td id=\"T_fae10_row8_col12\" class=\"data row8 col12\" >0.000000</td>\n",
       "    </tr>\n",
       "    <tr>\n",
       "      <th id=\"T_fae10_level0_row9\" class=\"row_heading level0 row9\" >order/confirmation</th>\n",
       "      <td id=\"T_fae10_row9_col0\" class=\"data row9 col0\" >4.000000</td>\n",
       "      <td id=\"T_fae10_row9_col1\" class=\"data row9 col1\" >0.000000</td>\n",
       "      <td id=\"T_fae10_row9_col2\" class=\"data row9 col2\" >0.000000</td>\n",
       "      <td id=\"T_fae10_row9_col3\" class=\"data row9 col3\" >0.000000</td>\n",
       "      <td id=\"T_fae10_row9_col4\" class=\"data row9 col4\" >67.000000</td>\n",
       "      <td id=\"T_fae10_row9_col5\" class=\"data row9 col5\" >0.000000</td>\n",
       "      <td id=\"T_fae10_row9_col6\" class=\"data row9 col6\" >0.000000</td>\n",
       "      <td id=\"T_fae10_row9_col7\" class=\"data row9 col7\" >0.000000</td>\n",
       "      <td id=\"T_fae10_row9_col8\" class=\"data row9 col8\" >0.000000</td>\n",
       "      <td id=\"T_fae10_row9_col9\" class=\"data row9 col9\" >0.000000</td>\n",
       "      <td id=\"T_fae10_row9_col10\" class=\"data row9 col10\" >39.000000</td>\n",
       "      <td id=\"T_fae10_row9_col11\" class=\"data row9 col11\" >0.000000</td>\n",
       "      <td id=\"T_fae10_row9_col12\" class=\"data row9 col12\" >401.000000</td>\n",
       "    </tr>\n",
       "    <tr>\n",
       "      <th id=\"T_fae10_level0_row10\" class=\"row_heading level0 row10\" >facebook</th>\n",
       "      <td id=\"T_fae10_row10_col0\" class=\"data row10 col0\" >0.000000</td>\n",
       "      <td id=\"T_fae10_row10_col1\" class=\"data row10 col1\" >1610.000000</td>\n",
       "      <td id=\"T_fae10_row10_col2\" class=\"data row10 col2\" >0.000000</td>\n",
       "      <td id=\"T_fae10_row10_col3\" class=\"data row10 col3\" >347.000000</td>\n",
       "      <td id=\"T_fae10_row10_col4\" class=\"data row10 col4\" >837.000000</td>\n",
       "      <td id=\"T_fae10_row10_col5\" class=\"data row10 col5\" >328.000000</td>\n",
       "      <td id=\"T_fae10_row10_col6\" class=\"data row10 col6\" >0.000000</td>\n",
       "      <td id=\"T_fae10_row10_col7\" class=\"data row10 col7\" >0.000000</td>\n",
       "      <td id=\"T_fae10_row10_col8\" class=\"data row10 col8\" >0.000000</td>\n",
       "      <td id=\"T_fae10_row10_col9\" class=\"data row10 col9\" >0.000000</td>\n",
       "      <td id=\"T_fae10_row10_col10\" class=\"data row10 col10\" >339.000000</td>\n",
       "      <td id=\"T_fae10_row10_col11\" class=\"data row10 col11\" >0.000000</td>\n",
       "      <td id=\"T_fae10_row10_col12\" class=\"data row10 col12\" >0.000000</td>\n",
       "    </tr>\n",
       "    <tr>\n",
       "      <th id=\"T_fae10_level0_row11\" class=\"row_heading level0 row11\" >order/payment-option-switcher</th>\n",
       "      <td id=\"T_fae10_row11_col0\" class=\"data row11 col0\" >0.000000</td>\n",
       "      <td id=\"T_fae10_row11_col1\" class=\"data row11 col1\" >0.000000</td>\n",
       "      <td id=\"T_fae10_row11_col2\" class=\"data row11 col2\" >0.000000</td>\n",
       "      <td id=\"T_fae10_row11_col3\" class=\"data row11 col3\" >0.000000</td>\n",
       "      <td id=\"T_fae10_row11_col4\" class=\"data row11 col4\" >45.000000</td>\n",
       "      <td id=\"T_fae10_row11_col5\" class=\"data row11 col5\" >0.000000</td>\n",
       "      <td id=\"T_fae10_row11_col6\" class=\"data row11 col6\" >0.000000</td>\n",
       "      <td id=\"T_fae10_row11_col7\" class=\"data row11 col7\" >0.000000</td>\n",
       "      <td id=\"T_fae10_row11_col8\" class=\"data row11 col8\" >0.000000</td>\n",
       "      <td id=\"T_fae10_row11_col9\" class=\"data row11 col9\" >220.000000</td>\n",
       "      <td id=\"T_fae10_row11_col10\" class=\"data row11 col10\" >0.000000</td>\n",
       "      <td id=\"T_fae10_row11_col11\" class=\"data row11 col11\" >54.000000</td>\n",
       "      <td id=\"T_fae10_row11_col12\" class=\"data row11 col12\" >0.000000</td>\n",
       "    </tr>\n",
       "    <tr>\n",
       "      <th id=\"T_fae10_level0_row12\" class=\"row_heading level0 row12\" >passed</th>\n",
       "      <td id=\"T_fae10_row12_col0\" class=\"data row12 col0\" >2.000000</td>\n",
       "      <td id=\"T_fae10_row12_col1\" class=\"data row12 col1\" >0.000000</td>\n",
       "      <td id=\"T_fae10_row12_col2\" class=\"data row12 col2\" >0.000000</td>\n",
       "      <td id=\"T_fae10_row12_col3\" class=\"data row12 col3\" >0.000000</td>\n",
       "      <td id=\"T_fae10_row12_col4\" class=\"data row12 col4\" >0.000000</td>\n",
       "      <td id=\"T_fae10_row12_col5\" class=\"data row12 col5\" >0.000000</td>\n",
       "      <td id=\"T_fae10_row12_col6\" class=\"data row12 col6\" >0.000000</td>\n",
       "      <td id=\"T_fae10_row12_col7\" class=\"data row12 col7\" >0.000000</td>\n",
       "      <td id=\"T_fae10_row12_col8\" class=\"data row12 col8\" >0.000000</td>\n",
       "      <td id=\"T_fae10_row12_col9\" class=\"data row12 col9\" >0.000000</td>\n",
       "      <td id=\"T_fae10_row12_col10\" class=\"data row12 col10\" >40.000000</td>\n",
       "      <td id=\"T_fae10_row12_col11\" class=\"data row12 col11\" >0.000000</td>\n",
       "      <td id=\"T_fae10_row12_col12\" class=\"data row12 col12\" >0.000000</td>\n",
       "    </tr>\n",
       "  </tbody>\n",
       "</table>\n"
      ],
      "text/plain": [
       "<pandas.io.formats.style.Styler at 0x7fb830bed8b0>"
      ]
     },
     "execution_count": 23,
     "metadata": {},
     "output_type": "execute_result"
    }
   ],
   "source": [
    "df = data_with_lost.rete.get_adjacency(weight_col='user_id', norm_type=None)\n",
    "\n",
    "def rotateheader():\n",
    "    return  [\n",
    "     dict(selector=\"th\", props=[(\"font-size\", \"75%\"),\n",
    "                            (\"text-align\", \"right\")\n",
    "                          ]),\n",
    "        dict(selector=\"th.col_heading\", props=[(\"font-size\", \"75%\"),\n",
    "                            (\"text-align\", \"left\"),\n",
    "                            (\"transform\", \"translate(0%,-30%) rotate(-10deg)\")\n",
    "                          ]),\n",
    "             dict(selector=\"caption\", props=[(\"caption-side\", \"bottom\")])\n",
    "                ]\n",
    "\n",
    "cm = sns.light_palette(\"green\", as_cmap=True)\n",
    "print(\"\\n\\n\\n\")\n",
    "df.style.background_gradient(cmap=cm).set_table_styles(rotateheader()).set_caption(\" .\")"
   ]
  },
  {
   "cell_type": "markdown",
   "metadata": {
    "colab_type": "text",
    "id": "B78aLnPtSIdm"
   },
   "source": [
    "Отнормируем матрицу на число уникальных пользователей\n"
   ]
  },
  {
   "cell_type": "code",
   "execution_count": 24,
   "metadata": {
    "colab": {
     "base_uri": "https://localhost:8080/",
     "height": 436
    },
    "colab_type": "code",
    "id": "iZvmvqOh3d-1",
    "outputId": "eaba4dec-4c7b-474e-b4fc-4ea1f9a04307"
   },
   "outputs": [
    {
     "name": "stdout",
     "output_type": "stream",
     "text": [
      "\n",
      "\n",
      "\n",
      "\n"
     ]
    },
    {
     "data": {
      "text/html": [
       "<style type=\"text/css\">\n",
       "#T_0fafa_ th {\n",
       "  font-size: 75%;\n",
       "  text-align: right;\n",
       "}\n",
       "#T_0fafa_ th.col_heading {\n",
       "  font-size: 75%;\n",
       "  text-align: left;\n",
       "  transform: translate(0%,-30%) rotate(-10deg);\n",
       "}\n",
       "#T_0fafa_ caption {\n",
       "  caption-side: bottom;\n",
       "}\n",
       "#T_0fafa_row0_col0, #T_0fafa_row0_col2, #T_0fafa_row1_col6, #T_0fafa_row1_col7, #T_0fafa_row2_col8, #T_0fafa_row8_col11, #T_0fafa_row9_col12, #T_0fafa_row10_col1, #T_0fafa_row10_col3, #T_0fafa_row10_col4, #T_0fafa_row10_col5, #T_0fafa_row10_col10, #T_0fafa_row11_col9 {\n",
       "  background-color: #008000;\n",
       "  color: #f1f1f1;\n",
       "}\n",
       "#T_0fafa_row0_col1 {\n",
       "  background-color: #d5e9d5;\n",
       "  color: #000000;\n",
       "}\n",
       "#T_0fafa_row0_col3 {\n",
       "  background-color: #84c084;\n",
       "  color: #000000;\n",
       "}\n",
       "#T_0fafa_row0_col4, #T_0fafa_row3_col4 {\n",
       "  background-color: #89c389;\n",
       "  color: #000000;\n",
       "}\n",
       "#T_0fafa_row0_col5 {\n",
       "  background-color: #79bc79;\n",
       "  color: #000000;\n",
       "}\n",
       "#T_0fafa_row0_col6, #T_0fafa_row0_col7, #T_0fafa_row0_col8, #T_0fafa_row0_col9, #T_0fafa_row0_col10, #T_0fafa_row0_col11, #T_0fafa_row0_col12, #T_0fafa_row1_col0, #T_0fafa_row1_col8, #T_0fafa_row1_col9, #T_0fafa_row1_col10, #T_0fafa_row1_col11, #T_0fafa_row1_col12, #T_0fafa_row2_col0, #T_0fafa_row2_col3, #T_0fafa_row2_col5, #T_0fafa_row2_col6, #T_0fafa_row2_col7, #T_0fafa_row2_col10, #T_0fafa_row2_col11, #T_0fafa_row2_col12, #T_0fafa_row3_col2, #T_0fafa_row3_col6, #T_0fafa_row3_col7, #T_0fafa_row3_col8, #T_0fafa_row3_col9, #T_0fafa_row3_col11, #T_0fafa_row3_col12, #T_0fafa_row4_col0, #T_0fafa_row4_col1, #T_0fafa_row4_col2, #T_0fafa_row4_col3, #T_0fafa_row4_col4, #T_0fafa_row4_col5, #T_0fafa_row4_col6, #T_0fafa_row4_col7, #T_0fafa_row4_col8, #T_0fafa_row4_col9, #T_0fafa_row4_col10, #T_0fafa_row4_col11, #T_0fafa_row4_col12, #T_0fafa_row5_col2, #T_0fafa_row5_col6, #T_0fafa_row5_col7, #T_0fafa_row5_col8, #T_0fafa_row5_col9, #T_0fafa_row5_col11, #T_0fafa_row5_col12, #T_0fafa_row6_col0, #T_0fafa_row6_col2, #T_0fafa_row6_col3, #T_0fafa_row6_col5, #T_0fafa_row6_col6, #T_0fafa_row6_col7, #T_0fafa_row6_col11, #T_0fafa_row6_col12, #T_0fafa_row7_col2, #T_0fafa_row7_col3, #T_0fafa_row7_col5, #T_0fafa_row7_col6, #T_0fafa_row7_col10, #T_0fafa_row7_col11, #T_0fafa_row7_col12, #T_0fafa_row8_col2, #T_0fafa_row8_col3, #T_0fafa_row8_col5, #T_0fafa_row8_col6, #T_0fafa_row8_col7, #T_0fafa_row8_col9, #T_0fafa_row8_col12, #T_0fafa_row9_col1, #T_0fafa_row9_col2, #T_0fafa_row9_col3, #T_0fafa_row9_col5, #T_0fafa_row9_col6, #T_0fafa_row9_col7, #T_0fafa_row9_col8, #T_0fafa_row9_col9, #T_0fafa_row9_col11, #T_0fafa_row10_col0, #T_0fafa_row10_col2, #T_0fafa_row10_col6, #T_0fafa_row10_col7, #T_0fafa_row10_col8, #T_0fafa_row10_col9, #T_0fafa_row10_col11, #T_0fafa_row10_col12, #T_0fafa_row11_col0, #T_0fafa_row11_col1, #T_0fafa_row11_col2, #T_0fafa_row11_col3, #T_0fafa_row11_col5, #T_0fafa_row11_col6, #T_0fafa_row11_col7, #T_0fafa_row11_col8, #T_0fafa_row11_col10, #T_0fafa_row11_col12, #T_0fafa_row12_col1, #T_0fafa_row12_col2, #T_0fafa_row12_col3, #T_0fafa_row12_col4, #T_0fafa_row12_col5, #T_0fafa_row12_col6, #T_0fafa_row12_col7, #T_0fafa_row12_col8, #T_0fafa_row12_col9, #T_0fafa_row12_col11, #T_0fafa_row12_col12 {\n",
       "  background-color: #ebf3eb;\n",
       "  color: #000000;\n",
       "}\n",
       "#T_0fafa_row1_col1 {\n",
       "  background-color: #ddecdd;\n",
       "  color: #000000;\n",
       "}\n",
       "#T_0fafa_row1_col2 {\n",
       "  background-color: #42a042;\n",
       "  color: #f1f1f1;\n",
       "}\n",
       "#T_0fafa_row1_col3, #T_0fafa_row7_col8 {\n",
       "  background-color: #55a955;\n",
       "  color: #f1f1f1;\n",
       "}\n",
       "#T_0fafa_row1_col4 {\n",
       "  background-color: #45a245;\n",
       "  color: #f1f1f1;\n",
       "}\n",
       "#T_0fafa_row1_col5 {\n",
       "  background-color: #54a954;\n",
       "  color: #f1f1f1;\n",
       "}\n",
       "#T_0fafa_row2_col1 {\n",
       "  background-color: #c2dfc2;\n",
       "  color: #000000;\n",
       "}\n",
       "#T_0fafa_row2_col2 {\n",
       "  background-color: #49a449;\n",
       "  color: #f1f1f1;\n",
       "}\n",
       "#T_0fafa_row2_col4 {\n",
       "  background-color: #66b266;\n",
       "  color: #f1f1f1;\n",
       "}\n",
       "#T_0fafa_row2_col9 {\n",
       "  background-color: #7fbe7f;\n",
       "  color: #000000;\n",
       "}\n",
       "#T_0fafa_row3_col0 {\n",
       "  background-color: #6fb76f;\n",
       "  color: #f1f1f1;\n",
       "}\n",
       "#T_0fafa_row3_col1 {\n",
       "  background-color: #deedde;\n",
       "  color: #000000;\n",
       "}\n",
       "#T_0fafa_row3_col3 {\n",
       "  background-color: #b2d7b1;\n",
       "  color: #000000;\n",
       "}\n",
       "#T_0fafa_row3_col5 {\n",
       "  background-color: #a3d0a3;\n",
       "  color: #000000;\n",
       "}\n",
       "#T_0fafa_row3_col10 {\n",
       "  background-color: #1e8f1e;\n",
       "  color: #f1f1f1;\n",
       "}\n",
       "#T_0fafa_row5_col0 {\n",
       "  background-color: #74b974;\n",
       "  color: #f1f1f1;\n",
       "}\n",
       "#T_0fafa_row5_col1, #T_0fafa_row11_col4 {\n",
       "  background-color: #dfeddf;\n",
       "  color: #000000;\n",
       "}\n",
       "#T_0fafa_row5_col3 {\n",
       "  background-color: #70b770;\n",
       "  color: #f1f1f1;\n",
       "}\n",
       "#T_0fafa_row5_col4 {\n",
       "  background-color: #b3d8b3;\n",
       "  color: #000000;\n",
       "}\n",
       "#T_0fafa_row5_col5 {\n",
       "  background-color: #b0d6b0;\n",
       "  color: #000000;\n",
       "}\n",
       "#T_0fafa_row5_col10 {\n",
       "  background-color: #359a35;\n",
       "  color: #f1f1f1;\n",
       "}\n",
       "#T_0fafa_row6_col1, #T_0fafa_row9_col0 {\n",
       "  background-color: #e5f0e5;\n",
       "  color: #000000;\n",
       "}\n",
       "#T_0fafa_row6_col4, #T_0fafa_row8_col4 {\n",
       "  background-color: #daebda;\n",
       "  color: #000000;\n",
       "}\n",
       "#T_0fafa_row6_col8 {\n",
       "  background-color: #b7dab7;\n",
       "  color: #000000;\n",
       "}\n",
       "#T_0fafa_row6_col9 {\n",
       "  background-color: #a8d2a8;\n",
       "  color: #000000;\n",
       "}\n",
       "#T_0fafa_row6_col10 {\n",
       "  background-color: #d7e9d7;\n",
       "  color: #000000;\n",
       "}\n",
       "#T_0fafa_row7_col0 {\n",
       "  background-color: #2b952b;\n",
       "  color: #f1f1f1;\n",
       "}\n",
       "#T_0fafa_row7_col1 {\n",
       "  background-color: #c1dfc1;\n",
       "  color: #000000;\n",
       "}\n",
       "#T_0fafa_row7_col4 {\n",
       "  background-color: #83c083;\n",
       "  color: #000000;\n",
       "}\n",
       "#T_0fafa_row7_col7, #T_0fafa_row8_col10 {\n",
       "  background-color: #d4e8d4;\n",
       "  color: #000000;\n",
       "}\n",
       "#T_0fafa_row7_col9 {\n",
       "  background-color: #5fae5f;\n",
       "  color: #f1f1f1;\n",
       "}\n",
       "#T_0fafa_row8_col0 {\n",
       "  background-color: #cde5cd;\n",
       "  color: #000000;\n",
       "}\n",
       "#T_0fafa_row8_col1 {\n",
       "  background-color: #e3efe3;\n",
       "  color: #000000;\n",
       "}\n",
       "#T_0fafa_row8_col8 {\n",
       "  background-color: #bbdcbb;\n",
       "  color: #000000;\n",
       "}\n",
       "#T_0fafa_row9_col4 {\n",
       "  background-color: #d8ead8;\n",
       "  color: #000000;\n",
       "}\n",
       "#T_0fafa_row9_col10 {\n",
       "  background-color: #d0e6d0;\n",
       "  color: #000000;\n",
       "}\n",
       "#T_0fafa_row11_col11 {\n",
       "  background-color: #bcdcbc;\n",
       "  color: #000000;\n",
       "}\n",
       "#T_0fafa_row12_col0 {\n",
       "  background-color: #e8f2e8;\n",
       "  color: #000000;\n",
       "}\n",
       "#T_0fafa_row12_col10 {\n",
       "  background-color: #cfe5cf;\n",
       "  color: #000000;\n",
       "}\n",
       "</style>\n",
       "<table id=\"T_0fafa_\">\n",
       "  <caption> .</caption>\n",
       "  <thead>\n",
       "    <tr>\n",
       "      <th class=\"blank level0\" >&nbsp;</th>\n",
       "      <th class=\"col_heading level0 col0\" >blog</th>\n",
       "      <th class=\"col_heading level0 col1\" >catalog/</th>\n",
       "      <th class=\"col_heading level0 col2\" >catalog/divani/bed_bed_frame/</th>\n",
       "      <th class=\"col_heading level0 col3\" >delivery/</th>\n",
       "      <th class=\"col_heading level0 col4\" >lost</th>\n",
       "      <th class=\"col_heading level0 col5\" >o-kompanii</th>\n",
       "      <th class=\"col_heading level0 col6\" >catalog/matrasy/sampleonlineshop_gravity/</th>\n",
       "      <th class=\"col_heading level0 col7\" >catalog/pillow/podushka_anatomicheskay/</th>\n",
       "      <th class=\"col_heading level0 col8\" >order/</th>\n",
       "      <th class=\"col_heading level0 col9\" >order/confirmation</th>\n",
       "      <th class=\"col_heading level0 col10\" >facebook</th>\n",
       "      <th class=\"col_heading level0 col11\" >order/payment-option-switcher</th>\n",
       "      <th class=\"col_heading level0 col12\" >passed</th>\n",
       "    </tr>\n",
       "  </thead>\n",
       "  <tbody>\n",
       "    <tr>\n",
       "      <th id=\"T_0fafa_level0_row0\" class=\"row_heading level0 row0\" >blog</th>\n",
       "      <td id=\"T_0fafa_row0_col0\" class=\"data row0 col0\" >0.039505</td>\n",
       "      <td id=\"T_0fafa_row0_col1\" class=\"data row0 col1\" >0.038978</td>\n",
       "      <td id=\"T_0fafa_row0_col2\" class=\"data row0 col2\" >0.156439</td>\n",
       "      <td id=\"T_0fafa_row0_col3\" class=\"data row0 col3\" >0.040032</td>\n",
       "      <td id=\"T_0fafa_row0_col4\" class=\"data row0 col4\" >0.091651</td>\n",
       "      <td id=\"T_0fafa_row0_col5\" class=\"data row0 col5\" >0.041612</td>\n",
       "      <td id=\"T_0fafa_row0_col6\" class=\"data row0 col6\" >0.000000</td>\n",
       "      <td id=\"T_0fafa_row0_col7\" class=\"data row0 col7\" >0.000000</td>\n",
       "      <td id=\"T_0fafa_row0_col8\" class=\"data row0 col8\" >0.000000</td>\n",
       "      <td id=\"T_0fafa_row0_col9\" class=\"data row0 col9\" >0.000000</td>\n",
       "      <td id=\"T_0fafa_row0_col10\" class=\"data row0 col10\" >0.000000</td>\n",
       "      <td id=\"T_0fafa_row0_col11\" class=\"data row0 col11\" >0.000000</td>\n",
       "      <td id=\"T_0fafa_row0_col12\" class=\"data row0 col12\" >0.000000</td>\n",
       "    </tr>\n",
       "    <tr>\n",
       "      <th id=\"T_0fafa_level0_row1\" class=\"row_heading level0 row1\" >catalog/</th>\n",
       "      <td id=\"T_0fafa_row1_col0\" class=\"data row1 col0\" >0.000000</td>\n",
       "      <td id=\"T_0fafa_row1_col1\" class=\"data row1 col1\" >0.025020</td>\n",
       "      <td id=\"T_0fafa_row1_col2\" class=\"data row1 col2\" >0.112194</td>\n",
       "      <td id=\"T_0fafa_row1_col3\" class=\"data row1 col3\" >0.058204</td>\n",
       "      <td id=\"T_0fafa_row1_col4\" class=\"data row1 col4\" >0.155386</td>\n",
       "      <td id=\"T_0fafa_row1_col5\" class=\"data row1 col5\" >0.055570</td>\n",
       "      <td id=\"T_0fafa_row1_col6\" class=\"data row1 col6\" >0.061628</td>\n",
       "      <td id=\"T_0fafa_row1_col7\" class=\"data row1 col7\" >0.232025</td>\n",
       "      <td id=\"T_0fafa_row1_col8\" class=\"data row1 col8\" >0.000000</td>\n",
       "      <td id=\"T_0fafa_row1_col9\" class=\"data row1 col9\" >0.000000</td>\n",
       "      <td id=\"T_0fafa_row1_col10\" class=\"data row1 col10\" >0.000000</td>\n",
       "      <td id=\"T_0fafa_row1_col11\" class=\"data row1 col11\" >0.000000</td>\n",
       "      <td id=\"T_0fafa_row1_col12\" class=\"data row1 col12\" >0.000000</td>\n",
       "    </tr>\n",
       "    <tr>\n",
       "      <th id=\"T_0fafa_level0_row2\" class=\"row_heading level0 row2\" >catalog/divani/bed_bed_frame/</th>\n",
       "      <td id=\"T_0fafa_row2_col0\" class=\"data row2 col0\" >0.000000</td>\n",
       "      <td id=\"T_0fafa_row2_col1\" class=\"data row2 col1\" >0.073216</td>\n",
       "      <td id=\"T_0fafa_row2_col2\" class=\"data row2 col2\" >0.107717</td>\n",
       "      <td id=\"T_0fafa_row2_col3\" class=\"data row2 col3\" >0.000000</td>\n",
       "      <td id=\"T_0fafa_row2_col4\" class=\"data row2 col4\" >0.124572</td>\n",
       "      <td id=\"T_0fafa_row2_col5\" class=\"data row2 col5\" >0.000000</td>\n",
       "      <td id=\"T_0fafa_row2_col6\" class=\"data row2 col6\" >0.000000</td>\n",
       "      <td id=\"T_0fafa_row2_col7\" class=\"data row2 col7\" >0.000000</td>\n",
       "      <td id=\"T_0fafa_row2_col8\" class=\"data row2 col8\" >0.060047</td>\n",
       "      <td id=\"T_0fafa_row2_col9\" class=\"data row2 col9\" >0.026600</td>\n",
       "      <td id=\"T_0fafa_row2_col10\" class=\"data row2 col10\" >0.000000</td>\n",
       "      <td id=\"T_0fafa_row2_col11\" class=\"data row2 col11\" >0.000000</td>\n",
       "      <td id=\"T_0fafa_row2_col12\" class=\"data row2 col12\" >0.000000</td>\n",
       "    </tr>\n",
       "    <tr>\n",
       "      <th id=\"T_0fafa_level0_row3\" class=\"row_heading level0 row3\" >delivery/</th>\n",
       "      <td id=\"T_0fafa_row3_col0\" class=\"data row3 col0\" >0.020806</td>\n",
       "      <td id=\"T_0fafa_row3_col1\" class=\"data row3 col1\" >0.023966</td>\n",
       "      <td id=\"T_0fafa_row3_col2\" class=\"data row3 col2\" >0.000000</td>\n",
       "      <td id=\"T_0fafa_row3_col3\" class=\"data row3 col3\" >0.022386</td>\n",
       "      <td id=\"T_0fafa_row3_col4\" class=\"data row3 col4\" >0.091388</td>\n",
       "      <td id=\"T_0fafa_row3_col5\" class=\"data row3 col5\" >0.026337</td>\n",
       "      <td id=\"T_0fafa_row3_col6\" class=\"data row3 col6\" >0.000000</td>\n",
       "      <td id=\"T_0fafa_row3_col7\" class=\"data row3 col7\" >0.000000</td>\n",
       "      <td id=\"T_0fafa_row3_col8\" class=\"data row3 col8\" >0.000000</td>\n",
       "      <td id=\"T_0fafa_row3_col9\" class=\"data row3 col9\" >0.000000</td>\n",
       "      <td id=\"T_0fafa_row3_col10\" class=\"data row3 col10\" >0.077693</td>\n",
       "      <td id=\"T_0fafa_row3_col11\" class=\"data row3 col11\" >0.000000</td>\n",
       "      <td id=\"T_0fafa_row3_col12\" class=\"data row3 col12\" >0.000000</td>\n",
       "    </tr>\n",
       "    <tr>\n",
       "      <th id=\"T_0fafa_level0_row4\" class=\"row_heading level0 row4\" >lost</th>\n",
       "      <td id=\"T_0fafa_row4_col0\" class=\"data row4 col0\" >0.000000</td>\n",
       "      <td id=\"T_0fafa_row4_col1\" class=\"data row4 col1\" >0.000000</td>\n",
       "      <td id=\"T_0fafa_row4_col2\" class=\"data row4 col2\" >0.000000</td>\n",
       "      <td id=\"T_0fafa_row4_col3\" class=\"data row4 col3\" >0.000000</td>\n",
       "      <td id=\"T_0fafa_row4_col4\" class=\"data row4 col4\" >0.000000</td>\n",
       "      <td id=\"T_0fafa_row4_col5\" class=\"data row4 col5\" >0.000000</td>\n",
       "      <td id=\"T_0fafa_row4_col6\" class=\"data row4 col6\" >0.000000</td>\n",
       "      <td id=\"T_0fafa_row4_col7\" class=\"data row4 col7\" >0.000000</td>\n",
       "      <td id=\"T_0fafa_row4_col8\" class=\"data row4 col8\" >0.000000</td>\n",
       "      <td id=\"T_0fafa_row4_col9\" class=\"data row4 col9\" >0.000000</td>\n",
       "      <td id=\"T_0fafa_row4_col10\" class=\"data row4 col10\" >0.000000</td>\n",
       "      <td id=\"T_0fafa_row4_col11\" class=\"data row4 col11\" >0.000000</td>\n",
       "      <td id=\"T_0fafa_row4_col12\" class=\"data row4 col12\" >0.000000</td>\n",
       "    </tr>\n",
       "    <tr>\n",
       "      <th id=\"T_0fafa_level0_row5\" class=\"row_heading level0 row5\" >o-kompanii</th>\n",
       "      <td id=\"T_0fafa_row5_col0\" class=\"data row5 col0\" >0.020016</td>\n",
       "      <td id=\"T_0fafa_row5_col1\" class=\"data row5 col1\" >0.022123</td>\n",
       "      <td id=\"T_0fafa_row5_col2\" class=\"data row5 col2\" >0.000000</td>\n",
       "      <td id=\"T_0fafa_row5_col3\" class=\"data row5 col3\" >0.047669</td>\n",
       "      <td id=\"T_0fafa_row5_col4\" class=\"data row5 col4\" >0.052146</td>\n",
       "      <td id=\"T_0fafa_row5_col5\" class=\"data row5 col5\" >0.021596</td>\n",
       "      <td id=\"T_0fafa_row5_col6\" class=\"data row5 col6\" >0.000000</td>\n",
       "      <td id=\"T_0fafa_row5_col7\" class=\"data row5 col7\" >0.000000</td>\n",
       "      <td id=\"T_0fafa_row5_col8\" class=\"data row5 col8\" >0.000000</td>\n",
       "      <td id=\"T_0fafa_row5_col9\" class=\"data row5 col9\" >0.000000</td>\n",
       "      <td id=\"T_0fafa_row5_col10\" class=\"data row5 col10\" >0.068738</td>\n",
       "      <td id=\"T_0fafa_row5_col11\" class=\"data row5 col11\" >0.000000</td>\n",
       "      <td id=\"T_0fafa_row5_col12\" class=\"data row5 col12\" >0.000000</td>\n",
       "    </tr>\n",
       "    <tr>\n",
       "      <th id=\"T_0fafa_level0_row6\" class=\"row_heading level0 row6\" >catalog/matrasy/sampleonlineshop_gravity/</th>\n",
       "      <td id=\"T_0fafa_row6_col0\" class=\"data row6 col0\" >0.000000</td>\n",
       "      <td id=\"T_0fafa_row6_col1\" class=\"data row6 col1\" >0.011588</td>\n",
       "      <td id=\"T_0fafa_row6_col2\" class=\"data row6 col2\" >0.000000</td>\n",
       "      <td id=\"T_0fafa_row6_col3\" class=\"data row6 col3\" >0.000000</td>\n",
       "      <td id=\"T_0fafa_row6_col4\" class=\"data row6 col4\" >0.015802</td>\n",
       "      <td id=\"T_0fafa_row6_col5\" class=\"data row6 col5\" >0.000000</td>\n",
       "      <td id=\"T_0fafa_row6_col6\" class=\"data row6 col6\" >0.000000</td>\n",
       "      <td id=\"T_0fafa_row6_col7\" class=\"data row6 col7\" >0.000000</td>\n",
       "      <td id=\"T_0fafa_row6_col8\" class=\"data row6 col8\" >0.013168</td>\n",
       "      <td id=\"T_0fafa_row6_col9\" class=\"data row6 col9\" >0.016329</td>\n",
       "      <td id=\"T_0fafa_row6_col10\" class=\"data row6 col10\" >0.007374</td>\n",
       "      <td id=\"T_0fafa_row6_col11\" class=\"data row6 col11\" >0.000000</td>\n",
       "      <td id=\"T_0fafa_row6_col12\" class=\"data row6 col12\" >0.000000</td>\n",
       "    </tr>\n",
       "    <tr>\n",
       "      <th id=\"T_0fafa_level0_row7\" class=\"row_heading level0 row7\" >catalog/pillow/podushka_anatomicheskay/</th>\n",
       "      <td id=\"T_0fafa_row7_col0\" class=\"data row7 col0\" >0.032131</td>\n",
       "      <td id=\"T_0fafa_row7_col1\" class=\"data row7 col1\" >0.075849</td>\n",
       "      <td id=\"T_0fafa_row7_col2\" class=\"data row7 col2\" >0.000000</td>\n",
       "      <td id=\"T_0fafa_row7_col3\" class=\"data row7 col3\" >0.000000</td>\n",
       "      <td id=\"T_0fafa_row7_col4\" class=\"data row7 col4\" >0.097709</td>\n",
       "      <td id=\"T_0fafa_row7_col5\" class=\"data row7 col5\" >0.000000</td>\n",
       "      <td id=\"T_0fafa_row7_col6\" class=\"data row7 col6\" >0.000000</td>\n",
       "      <td id=\"T_0fafa_row7_col7\" class=\"data row7 col7\" >0.022386</td>\n",
       "      <td id=\"T_0fafa_row7_col8\" class=\"data row7 col8\" >0.038451</td>\n",
       "      <td id=\"T_0fafa_row7_col9\" class=\"data row7 col9\" >0.034501</td>\n",
       "      <td id=\"T_0fafa_row7_col10\" class=\"data row7 col10\" >0.000000</td>\n",
       "      <td id=\"T_0fafa_row7_col11\" class=\"data row7 col11\" >0.000000</td>\n",
       "      <td id=\"T_0fafa_row7_col12\" class=\"data row7 col12\" >0.000000</td>\n",
       "    </tr>\n",
       "    <tr>\n",
       "      <th id=\"T_0fafa_level0_row8\" class=\"row_heading level0 row8\" >order/</th>\n",
       "      <td id=\"T_0fafa_row8_col0\" class=\"data row8 col0\" >0.005004</td>\n",
       "      <td id=\"T_0fafa_row8_col1\" class=\"data row8 col1\" >0.014222</td>\n",
       "      <td id=\"T_0fafa_row8_col2\" class=\"data row8 col2\" >0.000000</td>\n",
       "      <td id=\"T_0fafa_row8_col3\" class=\"data row8 col3\" >0.000000</td>\n",
       "      <td id=\"T_0fafa_row8_col4\" class=\"data row8 col4\" >0.015802</td>\n",
       "      <td id=\"T_0fafa_row8_col5\" class=\"data row8 col5\" >0.000000</td>\n",
       "      <td id=\"T_0fafa_row8_col6\" class=\"data row8 col6\" >0.000000</td>\n",
       "      <td id=\"T_0fafa_row8_col7\" class=\"data row8 col7\" >0.000000</td>\n",
       "      <td id=\"T_0fafa_row8_col8\" class=\"data row8 col8\" >0.012378</td>\n",
       "      <td id=\"T_0fafa_row8_col9\" class=\"data row8 col9\" >0.000000</td>\n",
       "      <td id=\"T_0fafa_row8_col10\" class=\"data row8 col10\" >0.008428</td>\n",
       "      <td id=\"T_0fafa_row8_col11\" class=\"data row8 col11\" >0.070319</td>\n",
       "      <td id=\"T_0fafa_row8_col12\" class=\"data row8 col12\" >0.000000</td>\n",
       "    </tr>\n",
       "    <tr>\n",
       "      <th id=\"T_0fafa_level0_row9\" class=\"row_heading level0 row9\" >order/confirmation</th>\n",
       "      <td id=\"T_0fafa_row9_col0\" class=\"data row9 col0\" >0.001053</td>\n",
       "      <td id=\"T_0fafa_row9_col1\" class=\"data row9 col1\" >0.000000</td>\n",
       "      <td id=\"T_0fafa_row9_col2\" class=\"data row9 col2\" >0.000000</td>\n",
       "      <td id=\"T_0fafa_row9_col3\" class=\"data row9 col3\" >0.000000</td>\n",
       "      <td id=\"T_0fafa_row9_col4\" class=\"data row9 col4\" >0.017646</td>\n",
       "      <td id=\"T_0fafa_row9_col5\" class=\"data row9 col5\" >0.000000</td>\n",
       "      <td id=\"T_0fafa_row9_col6\" class=\"data row9 col6\" >0.000000</td>\n",
       "      <td id=\"T_0fafa_row9_col7\" class=\"data row9 col7\" >0.000000</td>\n",
       "      <td id=\"T_0fafa_row9_col8\" class=\"data row9 col8\" >0.000000</td>\n",
       "      <td id=\"T_0fafa_row9_col9\" class=\"data row9 col9\" >0.000000</td>\n",
       "      <td id=\"T_0fafa_row9_col10\" class=\"data row9 col10\" >0.010271</td>\n",
       "      <td id=\"T_0fafa_row9_col11\" class=\"data row9 col11\" >0.000000</td>\n",
       "      <td id=\"T_0fafa_row9_col12\" class=\"data row9 col12\" >0.105610</td>\n",
       "    </tr>\n",
       "    <tr>\n",
       "      <th id=\"T_0fafa_level0_row10\" class=\"row_heading level0 row10\" >facebook</th>\n",
       "      <td id=\"T_0fafa_row10_col0\" class=\"data row10 col0\" >0.000000</td>\n",
       "      <td id=\"T_0fafa_row10_col1\" class=\"data row10 col1\" >0.424019</td>\n",
       "      <td id=\"T_0fafa_row10_col2\" class=\"data row10 col2\" >0.000000</td>\n",
       "      <td id=\"T_0fafa_row10_col3\" class=\"data row10 col3\" >0.091388</td>\n",
       "      <td id=\"T_0fafa_row10_col4\" class=\"data row10 col4\" >0.220437</td>\n",
       "      <td id=\"T_0fafa_row10_col5\" class=\"data row10 col5\" >0.086384</td>\n",
       "      <td id=\"T_0fafa_row10_col6\" class=\"data row10 col6\" >0.000000</td>\n",
       "      <td id=\"T_0fafa_row10_col7\" class=\"data row10 col7\" >0.000000</td>\n",
       "      <td id=\"T_0fafa_row10_col8\" class=\"data row10 col8\" >0.000000</td>\n",
       "      <td id=\"T_0fafa_row10_col9\" class=\"data row10 col9\" >0.000000</td>\n",
       "      <td id=\"T_0fafa_row10_col10\" class=\"data row10 col10\" >0.089281</td>\n",
       "      <td id=\"T_0fafa_row10_col11\" class=\"data row10 col11\" >0.000000</td>\n",
       "      <td id=\"T_0fafa_row10_col12\" class=\"data row10 col12\" >0.000000</td>\n",
       "    </tr>\n",
       "    <tr>\n",
       "      <th id=\"T_0fafa_level0_row11\" class=\"row_heading level0 row11\" >order/payment-option-switcher</th>\n",
       "      <td id=\"T_0fafa_row11_col0\" class=\"data row11 col0\" >0.000000</td>\n",
       "      <td id=\"T_0fafa_row11_col1\" class=\"data row11 col1\" >0.000000</td>\n",
       "      <td id=\"T_0fafa_row11_col2\" class=\"data row11 col2\" >0.000000</td>\n",
       "      <td id=\"T_0fafa_row11_col3\" class=\"data row11 col3\" >0.000000</td>\n",
       "      <td id=\"T_0fafa_row11_col4\" class=\"data row11 col4\" >0.011851</td>\n",
       "      <td id=\"T_0fafa_row11_col5\" class=\"data row11 col5\" >0.000000</td>\n",
       "      <td id=\"T_0fafa_row11_col6\" class=\"data row11 col6\" >0.000000</td>\n",
       "      <td id=\"T_0fafa_row11_col7\" class=\"data row11 col7\" >0.000000</td>\n",
       "      <td id=\"T_0fafa_row11_col8\" class=\"data row11 col8\" >0.000000</td>\n",
       "      <td id=\"T_0fafa_row11_col9\" class=\"data row11 col9\" >0.057940</td>\n",
       "      <td id=\"T_0fafa_row11_col10\" class=\"data row11 col10\" >0.000000</td>\n",
       "      <td id=\"T_0fafa_row11_col11\" class=\"data row11 col11\" >0.014222</td>\n",
       "      <td id=\"T_0fafa_row11_col12\" class=\"data row11 col12\" >0.000000</td>\n",
       "    </tr>\n",
       "    <tr>\n",
       "      <th id=\"T_0fafa_level0_row12\" class=\"row_heading level0 row12\" >passed</th>\n",
       "      <td id=\"T_0fafa_row12_col0\" class=\"data row12 col0\" >0.000527</td>\n",
       "      <td id=\"T_0fafa_row12_col1\" class=\"data row12 col1\" >0.000000</td>\n",
       "      <td id=\"T_0fafa_row12_col2\" class=\"data row12 col2\" >0.000000</td>\n",
       "      <td id=\"T_0fafa_row12_col3\" class=\"data row12 col3\" >0.000000</td>\n",
       "      <td id=\"T_0fafa_row12_col4\" class=\"data row12 col4\" >0.000000</td>\n",
       "      <td id=\"T_0fafa_row12_col5\" class=\"data row12 col5\" >0.000000</td>\n",
       "      <td id=\"T_0fafa_row12_col6\" class=\"data row12 col6\" >0.000000</td>\n",
       "      <td id=\"T_0fafa_row12_col7\" class=\"data row12 col7\" >0.000000</td>\n",
       "      <td id=\"T_0fafa_row12_col8\" class=\"data row12 col8\" >0.000000</td>\n",
       "      <td id=\"T_0fafa_row12_col9\" class=\"data row12 col9\" >0.000000</td>\n",
       "      <td id=\"T_0fafa_row12_col10\" class=\"data row12 col10\" >0.010535</td>\n",
       "      <td id=\"T_0fafa_row12_col11\" class=\"data row12 col11\" >0.000000</td>\n",
       "      <td id=\"T_0fafa_row12_col12\" class=\"data row12 col12\" >0.000000</td>\n",
       "    </tr>\n",
       "  </tbody>\n",
       "</table>\n"
      ],
      "text/plain": [
       "<pandas.io.formats.style.Styler at 0x7fb8257a2d90>"
      ]
     },
     "execution_count": 24,
     "metadata": {},
     "output_type": "execute_result"
    }
   ],
   "source": [
    "df = data_with_lost.rete.get_adjacency(weight_col='user_id', norm_type='full')\n",
    "\n",
    "cm = sns.light_palette(\"green\", as_cmap=True)\n",
    "print(\"\\n\\n\\n\")\n",
    "df.style.background_gradient(cmap=cm).set_table_styles(rotateheader()).set_caption(\" .\")"
   ]
  },
  {
   "cell_type": "markdown",
   "metadata": {
    "heading_collapsed": true
   },
   "source": [
    "# Петли и последовательности\n",
    "Какие петли и какие вообще паттерны есть в траекторих пользователей, какие из них коррелируют с оттоком пользователей, а какие с конверсией"
   ]
  },
  {
   "cell_type": "markdown",
   "metadata": {
    "hidden": true
   },
   "source": [
    "Обратите внимание, что в численных столбцах могут воспроизводиться не такие числа как на видео и синтаксис также немного отличается\n",
    "Это связано с тем, что:\n",
    "- Вышел новый релиз библиотеки с момента записи\n",
    "- Внутри функции происходит балансировка классов ('Good' и 'Bad').\n",
    "Для меньшего класса берутся все его значения, а для большего отбирается такое же количество юзеров функией np.random\n",
    "Чтобы обеспечить воспроизводимость нужно устанавливать параметр random_state"
   ]
  },
  {
   "cell_type": "markdown",
   "metadata": {
    "colab_type": "text",
    "hidden": true,
    "id": "3RmNvGY5SdpX"
   },
   "source": [
    "Петли:"
   ]
  },
  {
   "cell_type": "code",
   "execution_count": 25,
   "metadata": {
    "colab": {
     "base_uri": "https://localhost:8080/",
     "height": 325
    },
    "colab_type": "code",
    "hidden": true,
    "id": "OFcfeTO00d_8",
    "outputId": "03d56731-97a8-4bd8-b418-e237d7e256b2"
   },
   "outputs": [],
   "source": [
    "#loops = data.rete.find_loops(target_list=['passed'], ngram_range=(2,6) )\n",
    "#loops.sort_values(['Lost2Good'],ascending = False).head(20)"
   ]
  },
  {
   "cell_type": "markdown",
   "metadata": {
    "colab_type": "text",
    "hidden": true,
    "id": "MbTTQQqqSffL"
   },
   "source": [
    "Подпоследовательности:\n"
   ]
  },
  {
   "cell_type": "code",
   "execution_count": 26,
   "metadata": {
    "hidden": true
   },
   "outputs": [],
   "source": [
    "# sequences = data.rete.find_sequences(target_list=['passed'],fraction=1,\n",
    "#                                  ngram_range=(2,6),\n",
    "#                                   #preprocessing='collapse_loops'\n",
    "#                                     random_state=42)\n",
    "# sequences[sequences['Good']!=0].sort_values(['Lost2Good'],ascending = False).head(20)"
   ]
  },
  {
   "cell_type": "markdown",
   "metadata": {
    "colab_type": "text",
    "id": "ZCd-tgksr75I"
   },
   "source": [
    "# Кластеризация\n",
    "\n",
    "Сделаем кластеризацию и оценим, на какие кластеры распадаются наши данные по конверсии"
   ]
  },
  {
   "cell_type": "code",
   "execution_count": 27,
   "metadata": {
    "colab": {
     "base_uri": "https://localhost:8080/",
     "height": 283
    },
    "colab_type": "code",
    "id": "_nH7HqIFzszM",
    "outputId": "c4664f89-9349-4f6a-c9c3-1289c5f9f126"
   },
   "outputs": [
    {
     "data": {
      "image/png": "[encoded data removed]",
      "text/plain": [
       "<Figure size 648x432 with 1 Axes>"
      ]
     },
     "metadata": {
      "needs_background": "light"
     },
     "output_type": "display_data"
    }
   ],
   "source": [
    "data_with_lost.rete.get_clusters(plot_type='cluster_bar', \n",
    "                       n_clusters=10, \n",
    "                       ngram_range=(1,1),\n",
    "                       targets=['passed']\n",
    "                      );"
   ]
  },
  {
   "cell_type": "markdown",
   "metadata": {},
   "source": [
    "результаты кластеризации могут меняться, если при вопроизведении ноутбука вы используете другую версию sklearn, в этом примере версия 0.24.2"
   ]
  },
  {
   "cell_type": "markdown",
   "metadata": {
    "colab_type": "text",
    "id": "v7-FlQ65SnzI"
   },
   "source": [
    "Построим TSNE проекцию пользователей из TF-IDF пространства:"
   ]
  },
  {
   "cell_type": "markdown",
   "metadata": {
    "colab_type": "text",
    "id": "k6LhflvBS1bI"
   },
   "source": [
    "Построим граф для нескольких кластеров"
   ]
  },
  {
   "cell_type": "code",
   "execution_count": 30,
   "metadata": {
    "colab": {
     "base_uri": "https://localhost:8080/",
     "height": 1000
    },
    "colab_type": "code",
    "id": "EPu0GyYP8HXr",
    "outputId": "673e2e31-46e4-4a9a-90cd-556537967811"
   },
   "outputs": [
    {
     "data": {
      "text/html": [
       "\n",
       "        <iframe\n",
       "            width=\"1000\"\n",
       "            height=\"700\"\n",
       "            src=\"experiments/graph_2022-08-04 11_15_56_202557.html\"\n",
       "            frameborder=\"0\"\n",
       "            allowfullscreen\n",
       "            \n",
       "        ></iframe>\n",
       "        "
      ],
      "text/plain": [
       "<IPython.lib.display.IFrame at 0x7fb8257cf6d0>"
      ]
     },
     "metadata": {},
     "output_type": "display_data"
    }
   ],
   "source": [
    "#самый конверсионный кластер\n",
    "data_with_lost.rete.filter_cluster(5).rete.plot_graph(\n",
    "                     norm_type=None,\n",
    "                     targets={'passed':'green',\n",
    "                              'lost':'red',\n",
    "                              'facebook':'source',\n",
    "                              'blog':'source'\n",
    "                               },\n",
    "                     thresh=30,\n",
    "                    );"
   ]
  },
  {
   "cell_type": "code",
   "execution_count": 31,
   "metadata": {
    "colab": {
     "base_uri": "https://localhost:8080/",
     "height": 1000
    },
    "colab_type": "code",
    "id": "M5mFXHs78vbx",
    "outputId": "b1b8b45c-d3ee-4014-f52c-a1dec13c8017"
   },
   "outputs": [
    {
     "data": {
      "text/html": [
       "\n",
       "        <iframe\n",
       "            width=\"1000\"\n",
       "            height=\"700\"\n",
       "            src=\"experiments/graph_2022-08-04 11_15_58_897607.html\"\n",
       "            frameborder=\"0\"\n",
       "            allowfullscreen\n",
       "            \n",
       "        ></iframe>\n",
       "        "
      ],
      "text/plain": [
       "<IPython.lib.display.IFrame at 0x7fb8258029d0>"
      ]
     },
     "metadata": {},
     "output_type": "display_data"
    }
   ],
   "source": [
    "#9 кластер тоже с высокой конверсией\n",
    "data_with_lost.rete.filter_cluster(9).rete.plot_graph(\n",
    "                     norm_type=None,\n",
    "                     targets={'passed':'green',\n",
    "                              'lost':'red',\n",
    "                              'facebook':'source',\n",
    "                              'blog':'source'\n",
    "                               },\n",
    "                     thresh=30,\n",
    "                    );"
   ]
  },
  {
   "cell_type": "code",
   "execution_count": 32,
   "metadata": {
    "colab": {},
    "colab_type": "code",
    "id": "gghvSIr4OtqB"
   },
   "outputs": [
    {
     "data": {
      "text/html": [
       "\n",
       "        <iframe\n",
       "            width=\"1000\"\n",
       "            height=\"700\"\n",
       "            src=\"experiments/graph_2022-08-04 11_16_03_318411.html\"\n",
       "            frameborder=\"0\"\n",
       "            allowfullscreen\n",
       "            \n",
       "        ></iframe>\n",
       "        "
      ],
      "text/plain": [
       "<IPython.lib.display.IFrame at 0x7fb825c95130>"
      ]
     },
     "metadata": {},
     "output_type": "display_data"
    }
   ],
   "source": [
    "data_with_lost.rete.filter_cluster(2).rete.plot_graph(\n",
    "                     norm_type=None,\n",
    "                     targets={'passed':'green',\n",
    "                                'lost':'red',\n",
    "                              'facebook':'source',\n",
    "                              'blog':'source'\n",
    "                               },\n",
    "                     thresh=0,\n",
    "                    );"
   ]
  },
  {
   "cell_type": "markdown",
   "metadata": {
    "colab_type": "text",
    "id": "aTuy4jZOS65D"
   },
   "source": [
    "Исследуем профиль этого кластера - какие события как часто вызывались пользователями этого кластера"
   ]
  },
  {
   "cell_type": "code",
   "execution_count": 33,
   "metadata": {
    "colab": {
     "base_uri": "https://localhost:8080/",
     "height": 729
    },
    "colab_type": "code",
    "id": "VLHcRVhN6u0k",
    "outputId": "ff837d84-6800-43be-9890-c515ce605d81"
   },
   "outputs": [
    {
     "data": {
      "image/png": "[encoded data removed]",
      "text/plain": [
       "<Figure size 720x576 with 2 Axes>"
      ]
     },
     "metadata": {
      "needs_background": "light"
     },
     "output_type": "display_data"
    }
   ],
   "source": [
    "step_matrix_9 = data_with_lost.rete.filter_cluster(9).rete.step_matrix(max_steps=15,\n",
    "                                  targets=['passed'])"
   ]
  },
  {
   "cell_type": "code",
   "execution_count": 34,
   "metadata": {},
   "outputs": [
    {
     "data": {
      "image/png": "[encoded data removed]",
      "text/plain": [
       "<Figure size 648x432 with 2 Axes>"
      ]
     },
     "metadata": {
      "needs_background": "light"
     },
     "output_type": "display_data"
    }
   ],
   "source": [
    "sns.heatmap(data_with_lost.rete.filter_cluster(9).rete.get_adjacency());"
   ]
  },
  {
   "cell_type": "markdown",
   "metadata": {
    "colab_type": "text",
    "id": "Sgn4tXAZTFrW"
   },
   "source": [
    "Более детальное рассмотрение Топ-10 событий кластера и сравнение со всеми пользователями всех кластеров"
   ]
  },
  {
   "cell_type": "code",
   "execution_count": 35,
   "metadata": {
    "colab": {
     "base_uri": "https://localhost:8080/",
     "height": 371
    },
    "colab_type": "code",
    "id": "K1nkwGi1O4E3",
    "outputId": "51972c04-8c6e-4e77-b6bc-ee1ae509d4dc"
   },
   "outputs": [
    {
     "data": {
      "image/png": "[encoded data removed]",
      "text/plain": [
       "<Figure size 576x432 with 1 Axes>"
      ]
     },
     "metadata": {
      "needs_background": "light"
     },
     "output_type": "display_data"
    }
   ],
   "source": [
    "data_with_lost.rete.cluster_event_dist(9, top_n=10)"
   ]
  },
  {
   "cell_type": "code",
   "execution_count": 36,
   "metadata": {},
   "outputs": [
    {
     "data": {
      "image/png": "[encoded data removed]",
      "text/plain": [
       "<Figure size 576x432 with 1 Axes>"
      ]
     },
     "metadata": {
      "needs_background": "light"
     },
     "output_type": "display_data"
    }
   ],
   "source": [
    "data_with_lost.rete.cluster_event_dist(5,9, top_n=10)"
   ]
  },
  {
   "cell_type": "markdown",
   "metadata": {
    "colab_type": "text",
    "id": "SbLiD7_nTOB4"
   },
   "source": [
    "Расширим N-граммы длины 1 до N-грамм длины 2: учтём переходы"
   ]
  },
  {
   "cell_type": "markdown",
   "metadata": {
    "colab_type": "text",
    "id": "Rx9ILnBzTfO1"
   },
   "source": [
    "Сколько у нас уникальных событий:"
   ]
  },
  {
   "cell_type": "code",
   "execution_count": 38,
   "metadata": {
    "colab": {
     "base_uri": "https://localhost:8080/",
     "height": 35
    },
    "colab_type": "code",
    "id": "mUQjp9vR4DHv",
    "outputId": "46158e5b-fc5b-4df3-fcd4-30d48a85cba7"
   },
   "outputs": [
    {
     "data": {
      "text/plain": [
       "12"
      ]
     },
     "execution_count": 38,
     "metadata": {},
     "output_type": "execute_result"
    }
   ],
   "source": [
    "data['event_name'].nunique()"
   ]
  },
  {
   "cell_type": "markdown",
   "metadata": {
    "colab_type": "text",
    "id": "IjU_rsMkTh1O"
   },
   "source": [
    "Сколько уникальных переходов:"
   ]
  },
  {
   "cell_type": "code",
   "execution_count": 39,
   "metadata": {
    "colab": {
     "base_uri": "https://localhost:8080/",
     "height": 35
    },
    "colab_type": "code",
    "id": "OzlkMDVH6sZ9",
    "outputId": "0e5e8f25-ab17-4e36-f1d3-b5e4622b828f"
   },
   "outputs": [
    {
     "data": {
      "text/plain": [
       "50"
      ]
     },
     "execution_count": 39,
     "metadata": {},
     "output_type": "execute_result"
    }
   ],
   "source": [
    "edgelist = data.rete.get_edgelist()\n",
    "edgelist.shape[0]"
   ]
  },
  {
   "cell_type": "code",
   "execution_count": 40,
   "metadata": {
    "colab": {
     "base_uri": "https://localhost:8080/",
     "height": 288
    },
    "colab_type": "code",
    "id": "JFVgHE-C7RPf",
    "outputId": "046d5ee7-1aa7-41dc-baca-c79ad736065c"
   },
   "outputs": [
    {
     "data": {
      "image/png": "[encoded data removed]",
      "text/plain": [
       "<Figure size 648x432 with 1 Axes>"
      ]
     },
     "metadata": {
      "needs_background": "light"
     },
     "output_type": "display_data"
    }
   ],
   "source": [
    "data.rete.get_clusters(n_clusters=10,\n",
    "                       plot_type='cluster_bar',\n",
    "                       targets=['passed'],\n",
    "                       ngram_range=(1, 2));"
   ]
  },
  {
   "cell_type": "code",
   "execution_count": 46,
   "metadata": {
    "colab": {},
    "colab_type": "code",
    "id": "Wn6_74cv7wY4"
   },
   "outputs": [
    {
     "data": {
      "text/plain": [
       "<retentioneering.core.config.RetentioneeringDataset at 0x7fb83146e040>"
      ]
     },
     "execution_count": 46,
     "metadata": {},
     "output_type": "execute_result"
    }
   ],
   "source": [
    "data.rete"
   ]
  },
  {
   "cell_type": "code",
   "execution_count": null,
   "metadata": {},
   "outputs": [],
   "source": []
  }
 ],
 "metadata": {
  "colab": {
   "collapsed_sections": [],
   "name": "Clustering_and_transitions.ipynb",
   "provenance": []
  },
  "kernelspec": {
   "display_name": "Python 3 (ipykernel)",
   "language": "python",
   "name": "python3"
  },
  "language_info": {
   "codemirror_mode": {
    "name": "ipython",
    "version": 3
   },
   "file_extension": ".py",
   "mimetype": "text/x-python",
   "name": "python",
   "nbconvert_exporter": "python",
   "pygments_lexer": "ipython3",
   "version": "3.9.7"
  },
  "varInspector": {
   "cols": {
    "lenName": 16,
    "lenType": 16,
    "lenVar": 40
   },
   "kernels_config": {
    "python": {
     "delete_cmd_postfix": "",
     "delete_cmd_prefix": "del ",
     "library": "var_list.py",
     "varRefreshCmd": "print(var_dic_list())"
    },
    "r": {
     "delete_cmd_postfix": ") ",
     "delete_cmd_prefix": "rm(",
     "library": "var_list.r",
     "varRefreshCmd": "cat(var_dic_list()) "
    }
   },
   "types_to_exclude": [
    "module",
    "function",
    "builtin_function_or_method",
    "instance",
    "_Feature"
   ],
   "window_display": false
  }
 },
 "nbformat": 4,
 "nbformat_minor": 1
}
